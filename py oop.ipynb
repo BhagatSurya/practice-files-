{
 "cells": [
  {
   "cell_type": "code",
   "execution_count": 1,
   "id": "d2d6ebfd",
   "metadata": {},
   "outputs": [
    {
     "data": {
      "text/plain": [
       "'bhagatsurya'"
      ]
     },
     "execution_count": 1,
     "metadata": {},
     "output_type": "execute_result"
    }
   ],
   "source": [
    "class Employe:\n",
    "    def __init__(self,first,last,pay):\n",
    "        self.first = first\n",
    "        self.last=last\n",
    "        self.pay = pay\n",
    "        self.email = first + \".\"+last+ \"@company.com\"\n",
    "    \n",
    "    def fullname(self):\n",
    "        return  self.first + self.last\n",
    "    \n",
    "bhagat = Employe(\"bhagat\",\"surya\",10000000000)\n",
    "bhagat.email\n",
    "bhagat.fullname()"
   ]
  },
  {
   "cell_type": "code",
   "execution_count": 27,
   "id": "cd482877",
   "metadata": {},
   "outputs": [],
   "source": [
    "import time\n",
    "class company:\n",
    "    rise_amount = 1.04\n",
    "    number_employ =0\n",
    "    def __init__(self,name,potions,pay):\n",
    "        self.name = name\n",
    "        self.potions = potions\n",
    "        self.pay = pay \n",
    "        \n",
    "        \n",
    "        company.number_employ += 1\n",
    "    @property\n",
    "    def email(self):\n",
    "        return '{}@gamil.com'.format(self.name)\n",
    "    \n",
    "    def salarypermint(self):\n",
    "        return round(self.pay/60,ndigits=2)\n",
    "    \n",
    "    def apply_raise(self):\n",
    "         self.pay= int(self.pay * self.rise_amount)\n",
    "                \n",
    "    def __repr__(self):\n",
    "        return \"company('{}','{}','{}')\".format(self.name,self.potions,self.pay)\n",
    "            \n",
    "    @classmethod\n",
    "    def set_rise_amt(cls,amount:float):\n",
    "        cls.rise_amount = amount\n",
    "        \n",
    "    @classmethod \n",
    "    def from_string(cls,emp_str):\n",
    "        name,potions,pay = emp_str.split(\"-\")\n",
    "        return cls(name,potions,pay)\n",
    "    \n",
    "    @staticmethod\n",
    "    def is_workday(day):\n",
    "        if day.weekday() == 5 or day.weekday() == 6:\n",
    "            return False\n",
    "        return True\n",
    "    \n",
    "    \n",
    "class Devloper(company):\n",
    "    rise_amount= 1.10\n",
    "    def __init__(self,name,potions,pay,progamming):\n",
    "        super().__init__(name,potions,pay)\n",
    "        self.programming = progamming\n",
    "        \n",
    "class Manager(company):\n",
    "    def __init__(self,name,potions,pay,employ=None): \n",
    "            super().__init__(name,potions,pay)\n",
    "            if employ is None:\n",
    "                self.employ=[]\n",
    "            else:\n",
    "                self.employ = employ\n",
    "    def add_emp(self,emp):\n",
    "        if emp not in self.employ:\n",
    "            self.employ.append(emp)\n",
    "            \n",
    "    def remov_emp(self,emp):\n",
    "            if emp in self.employ:\n",
    "                self.employ.remove(emp)\n",
    "            \n",
    "    def print_emp(self):\n",
    "            for emp  in self.employ:\n",
    "                print(\"---\",emp.name)\n",
    "    "
   ]
  },
  {
   "cell_type": "code",
   "execution_count": null,
   "id": "a5de8764",
   "metadata": {},
   "outputs": [],
   "source": []
  },
  {
   "cell_type": "code",
   "execution_count": 28,
   "id": "386e6643",
   "metadata": {},
   "outputs": [],
   "source": [
    "bhagtsurya = company(\"Bhagat surya\",\"CTO\",1000000)"
   ]
  },
  {
   "cell_type": "code",
   "execution_count": 29,
   "id": "0d3b87d0",
   "metadata": {},
   "outputs": [
    {
     "data": {
      "text/plain": [
       "1000000"
      ]
     },
     "execution_count": 29,
     "metadata": {},
     "output_type": "execute_result"
    }
   ],
   "source": [
    "bhagtsurya.pay"
   ]
  },
  {
   "cell_type": "code",
   "execution_count": 30,
   "id": "79aadbbd",
   "metadata": {},
   "outputs": [
    {
     "data": {
      "text/plain": [
       "1"
      ]
     },
     "execution_count": 30,
     "metadata": {},
     "output_type": "execute_result"
    }
   ],
   "source": [
    "company.number_employ"
   ]
  },
  {
   "cell_type": "code",
   "execution_count": 31,
   "id": "3af8774b",
   "metadata": {},
   "outputs": [],
   "source": [
    "bhagat2= company(\"fsdfs\",\"sdfsdf\",31231)"
   ]
  },
  {
   "cell_type": "code",
   "execution_count": 32,
   "id": "822e81ad",
   "metadata": {},
   "outputs": [
    {
     "data": {
      "text/plain": [
       "2"
      ]
     },
     "execution_count": 32,
     "metadata": {},
     "output_type": "execute_result"
    }
   ],
   "source": [
    "company.number_employ"
   ]
  },
  {
   "cell_type": "code",
   "execution_count": 33,
   "id": "7c262912",
   "metadata": {},
   "outputs": [
    {
     "data": {
      "text/plain": [
       "1000000"
      ]
     },
     "execution_count": 33,
     "metadata": {},
     "output_type": "execute_result"
    }
   ],
   "source": [
    "bhagtsurya.pay"
   ]
  },
  {
   "cell_type": "code",
   "execution_count": 34,
   "id": "59a5ead4",
   "metadata": {},
   "outputs": [],
   "source": [
    "company.set_rise_amt(0.45)"
   ]
  },
  {
   "cell_type": "code",
   "execution_count": 35,
   "id": "70a57401",
   "metadata": {},
   "outputs": [
    {
     "data": {
      "text/plain": [
       "0.45"
      ]
     },
     "execution_count": 35,
     "metadata": {},
     "output_type": "execute_result"
    }
   ],
   "source": [
    "bhagtsurya.rise_amount"
   ]
  },
  {
   "cell_type": "code",
   "execution_count": 36,
   "id": "887b7157",
   "metadata": {},
   "outputs": [
    {
     "data": {
      "text/plain": [
       "1000000"
      ]
     },
     "execution_count": 36,
     "metadata": {},
     "output_type": "execute_result"
    }
   ],
   "source": [
    "bhagtsurya.pay"
   ]
  },
  {
   "cell_type": "code",
   "execution_count": 37,
   "id": "3eaad73e",
   "metadata": {},
   "outputs": [],
   "source": [
    "bhagtsurya.apply_raise()"
   ]
  },
  {
   "cell_type": "code",
   "execution_count": 38,
   "id": "06e83d75",
   "metadata": {},
   "outputs": [
    {
     "data": {
      "text/plain": [
       "450000"
      ]
     },
     "execution_count": 38,
     "metadata": {},
     "output_type": "execute_result"
    }
   ],
   "source": [
    "bhagtsurya.pay"
   ]
  },
  {
   "cell_type": "code",
   "execution_count": 39,
   "id": "d826bed1",
   "metadata": {},
   "outputs": [],
   "source": [
    "bhagat = Devloper(\"bhagat\",\"web dev\",1000000000000,\"node js\")"
   ]
  },
  {
   "cell_type": "code",
   "execution_count": 40,
   "id": "d8346c7a",
   "metadata": {},
   "outputs": [
    {
     "data": {
      "text/plain": [
       "3"
      ]
     },
     "execution_count": 40,
     "metadata": {},
     "output_type": "execute_result"
    }
   ],
   "source": [
    "Devloper.number_employ"
   ]
  },
  {
   "cell_type": "code",
   "execution_count": 41,
   "id": "1829fce8",
   "metadata": {},
   "outputs": [],
   "source": [
    "bhagat_dev1 =  Devloper(\"bhagat\",\"ML\",1000000000000,\"pytorch,tf\")"
   ]
  },
  {
   "cell_type": "code",
   "execution_count": 42,
   "id": "1b7ccb5f",
   "metadata": {},
   "outputs": [
    {
     "data": {
      "text/plain": [
       "4"
      ]
     },
     "execution_count": 42,
     "metadata": {},
     "output_type": "execute_result"
    }
   ],
   "source": [
    "Devloper.number_employ"
   ]
  },
  {
   "cell_type": "code",
   "execution_count": 43,
   "id": "041d5393",
   "metadata": {},
   "outputs": [
    {
     "name": "stdout",
     "output_type": "stream",
     "text": [
      "{'__module__': '__main__', 'rise_amount': 1.1, '__init__': <function Devloper.__init__ at 0x00000239EE9B3940>, '__doc__': None}\n"
     ]
    }
   ],
   "source": [
    "print(Devloper.__dict__)"
   ]
  },
  {
   "cell_type": "code",
   "execution_count": 44,
   "id": "0ad21a67",
   "metadata": {},
   "outputs": [
    {
     "data": {
      "text/plain": [
       "'bhagatgamil.com'"
      ]
     },
     "execution_count": 44,
     "metadata": {},
     "output_type": "execute_result"
    }
   ],
   "source": [
    "bhagat_dev1.email"
   ]
  },
  {
   "cell_type": "code",
   "execution_count": 45,
   "id": "61aec4bc",
   "metadata": {},
   "outputs": [],
   "source": [
    "mag_1 = Manager(\"sue\",\"smit\",9333333,[bhagat_dev1])"
   ]
  },
  {
   "cell_type": "code",
   "execution_count": 46,
   "id": "ade131e2",
   "metadata": {},
   "outputs": [
    {
     "name": "stdout",
     "output_type": "stream",
     "text": [
      "--- bhagat\n"
     ]
    }
   ],
   "source": [
    "mag_1.print_emp()"
   ]
  },
  {
   "cell_type": "code",
   "execution_count": 47,
   "id": "14996fae",
   "metadata": {},
   "outputs": [
    {
     "name": "stdout",
     "output_type": "stream",
     "text": [
      "company('Bhagat surya','CTO','450000')\n"
     ]
    }
   ],
   "source": [
    " print(bhagtsurya)"
   ]
  },
  {
   "cell_type": "code",
   "execution_count": 48,
   "id": "bd5c9b8d",
   "metadata": {},
   "outputs": [
    {
     "data": {
      "text/plain": [
       "company('bhagat','ML','1000000000000')"
      ]
     },
     "execution_count": 48,
     "metadata": {},
     "output_type": "execute_result"
    }
   ],
   "source": [
    "bhagat_dev1 "
   ]
  },
  {
   "cell_type": "code",
   "execution_count": 49,
   "id": "627cd950",
   "metadata": {},
   "outputs": [
    {
     "data": {
      "text/plain": [
       "'bhagatgamil.com'"
      ]
     },
     "execution_count": 49,
     "metadata": {},
     "output_type": "execute_result"
    }
   ],
   "source": [
    "bhagat_dev1.email"
   ]
  },
  {
   "cell_type": "code",
   "execution_count": 50,
   "id": "3ef2aa77",
   "metadata": {},
   "outputs": [],
   "source": [
    "bhagat_dev1.name = \"reju\""
   ]
  },
  {
   "cell_type": "code",
   "execution_count": 51,
   "id": "890750e4",
   "metadata": {},
   "outputs": [
    {
     "data": {
      "text/plain": [
       "'rejugamil.com'"
      ]
     },
     "execution_count": 51,
     "metadata": {},
     "output_type": "execute_result"
    }
   ],
   "source": [
    "bhagat_dev1.email"
   ]
  },
  {
   "cell_type": "code",
   "execution_count": null,
   "id": "2705bd51",
   "metadata": {},
   "outputs": [],
   "source": []
  },
  {
   "cell_type": "code",
   "execution_count": null,
   "id": "cdbd784f",
   "metadata": {},
   "outputs": [],
   "source": []
  }
 ],
 "metadata": {
  "kernelspec": {
   "display_name": "Python 3 (ipykernel)",
   "language": "python",
   "name": "python3"
  },
  "language_info": {
   "codemirror_mode": {
    "name": "ipython",
    "version": 3
   },
   "file_extension": ".py",
   "mimetype": "text/x-python",
   "name": "python",
   "nbconvert_exporter": "python",
   "pygments_lexer": "ipython3",
   "version": "3.9.13"
  }
 },
 "nbformat": 4,
 "nbformat_minor": 5
}
