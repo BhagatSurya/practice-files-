{
  "nbformat": 4,
  "nbformat_minor": 0,
  "metadata": {
    "colab": {
      "name": "Gaana-Data-Analysis.ipynb",
      "provenance": [],
      "collapsed_sections": [],
      "authorship_tag": "ABX9TyPdwfER1efBTvqOLRh8Hwhk",
      "include_colab_link": true
    },
    "kernelspec": {
      "name": "python3",
      "display_name": "Python 3"
    },
    "language_info": {
      "name": "python"
    }
  },
  "cells": [
    {
      "cell_type": "markdown",
      "metadata": {
        "id": "view-in-github",
        "colab_type": "text"
      },
      "source": [
        "<a href=\"https://colab.research.google.com/github/BhagatSurya/practice-files-/blob/main/Gaana_Data_Analysis.BhagatSurya.ipynb\" target=\"_parent\"><img src=\"https://colab.research.google.com/assets/colab-badge.svg\" alt=\"Open In Colab\"/></a>"
      ]
    },
    {
      "cell_type": "markdown",
      "source": [
        "#Hi 🙌 Bhagat surya here !!\n",
        "email  :bhagatsurya69@gmail.com\n",
        "\n",
        "twitter : https://twitter.com/bhagatsurya2\n",
        "\n",
        "instagram : https://www.instagram.com/bhagat_surya_anuradha/?hl=en\n",
        "\n",
        "linktree : https://linktr.ee/bhagatsurya \n",
        "\n",
        "⚡\n"
      ],
      "metadata": {
        "id": "HmunAgg8JU8h"
      }
    },
    {
      "cell_type": "code",
      "source": [
        ""
      ],
      "metadata": {
        "id": "2sYgCyiu1PkO"
      },
      "execution_count": null,
      "outputs": []
    },
    {
      "cell_type": "markdown",
      "source": [
        ""
      ],
      "metadata": {
        "id": "p8oMb8qA1PVE"
      }
    },
    {
      "cell_type": "code",
      "execution_count": 1,
      "metadata": {
        "id": "Fo7yNBwzuL6N"
      },
      "outputs": [],
      "source": [
        "url = '/content/songs.csv'\n",
        "import pandas as pd\n",
        "df = pd.read_csv(url)"
      ]
    },
    {
      "cell_type": "code",
      "source": [
        "df"
      ],
      "metadata": {
        "colab": {
          "base_uri": "https://localhost:8080/",
          "height": 554
        },
        "id": "z9RkGByduls3",
        "outputId": "d64a0145-c478-460b-9f6f-72117fa37851"
      },
      "execution_count": 2,
      "outputs": [
        {
          "output_type": "execute_result",
          "data": {
            "text/plain": [
              "                                                    name  \\\n",
              "0                                  Dil - E - Nadan Tujhe   \n",
              "1                      Agar Hum Kahen Aur Woh Muskara De   \n",
              "2                                          Unke Dekhe Se   \n",
              "3                Yeh Na Thi Hamari Qismat - Chitra Singh   \n",
              "4                                Hazaron Khwahishen Aisi   \n",
              "...                                                  ...   \n",
              "41350  Chaaridike Paaper Andhar (Manush Janam Diye Bi...   \n",
              "41351                                Ei Ki Go Shesh Daan   \n",
              "41352                                       Ei Je Bangla   \n",
              "41353                               Jatone Hridaye Rekho   \n",
              "41354                            Tomar Je Oi Haater Mala   \n",
              "\n",
              "                               singer  \\\n",
              "0           Chitra Singh|Jagjit Singh   \n",
              "1           Chitra Singh|Jagjit Singh   \n",
              "2                        Jagjit Singh   \n",
              "3                        Chitra Singh   \n",
              "4                        Jagjit Singh   \n",
              "...                               ...   \n",
              "41350                   Kishore Kumar   \n",
              "41351                    Feroza Begum   \n",
              "41352  Sandhya Mukherjee|Hemant Kumar   \n",
              "41353                Ajoy Chakrabarty   \n",
              "41354                     Asha Bhosle   \n",
              "\n",
              "                                               singer_id duration  \\\n",
              "0           /artist/chitra-singh|/artist/jagjeet-singh-1    05:00   \n",
              "1           /artist/chitra-singh|/artist/jagjeet-singh-1    06:26   \n",
              "2                                /artist/jagjeet-singh-1    03:41   \n",
              "3                                   /artist/chitra-singh    04:26   \n",
              "4                                /artist/jagjeet-singh-1    05:39   \n",
              "...                                                  ...      ...   \n",
              "41350                              /artist/kishore-kumar    03:23   \n",
              "41351                               /artist/feroza-begum    03:56   \n",
              "41352  /artist/sandhya-mukherjee|/artist/hemanta-mukh...    07:36   \n",
              "41353                           /artist/ajoy-chakrabarty    04:29   \n",
              "41354                              /artist/asha-bhosle-1    03:22   \n",
              "\n",
              "                                                    link language  \n",
              "0                                   /dil-e-nadan-tujhe-3     Urdu  \n",
              "1                    /agar-hum-kahen-aur-woh-muskura-den     Urdu  \n",
              "2                                         /unke-dekhe-se     Urdu  \n",
              "3                            /yeh-na-thi-hamari-qismat-2     Urdu  \n",
              "4                             /hazaron-khwahishen-aisi-1     Urdu  \n",
              "...                                                  ...      ...  \n",
              "41350  /chaaridike-paaper-andhar-manush-janam-diye-bidhi  Bengali  \n",
              "41351                                 /ei-kigo-sesh-daan  Bengali  \n",
              "41352                                      /ei-je-bangla  Bengali  \n",
              "41353                              /jatone-hridaye-rekho  Bengali  \n",
              "41354                           /tomar-je-oi-haater-mala  Bengali  \n",
              "\n",
              "[41355 rows x 6 columns]"
            ],
            "text/html": [
              "\n",
              "  <div id=\"df-8a28fd94-c0c6-43c2-ad13-4f058b9172d6\">\n",
              "    <div class=\"colab-df-container\">\n",
              "      <div>\n",
              "<style scoped>\n",
              "    .dataframe tbody tr th:only-of-type {\n",
              "        vertical-align: middle;\n",
              "    }\n",
              "\n",
              "    .dataframe tbody tr th {\n",
              "        vertical-align: top;\n",
              "    }\n",
              "\n",
              "    .dataframe thead th {\n",
              "        text-align: right;\n",
              "    }\n",
              "</style>\n",
              "<table border=\"1\" class=\"dataframe\">\n",
              "  <thead>\n",
              "    <tr style=\"text-align: right;\">\n",
              "      <th></th>\n",
              "      <th>name</th>\n",
              "      <th>singer</th>\n",
              "      <th>singer_id</th>\n",
              "      <th>duration</th>\n",
              "      <th>link</th>\n",
              "      <th>language</th>\n",
              "    </tr>\n",
              "  </thead>\n",
              "  <tbody>\n",
              "    <tr>\n",
              "      <th>0</th>\n",
              "      <td>Dil - E - Nadan Tujhe</td>\n",
              "      <td>Chitra Singh|Jagjit Singh</td>\n",
              "      <td>/artist/chitra-singh|/artist/jagjeet-singh-1</td>\n",
              "      <td>05:00</td>\n",
              "      <td>/dil-e-nadan-tujhe-3</td>\n",
              "      <td>Urdu</td>\n",
              "    </tr>\n",
              "    <tr>\n",
              "      <th>1</th>\n",
              "      <td>Agar Hum Kahen Aur Woh Muskara De</td>\n",
              "      <td>Chitra Singh|Jagjit Singh</td>\n",
              "      <td>/artist/chitra-singh|/artist/jagjeet-singh-1</td>\n",
              "      <td>06:26</td>\n",
              "      <td>/agar-hum-kahen-aur-woh-muskura-den</td>\n",
              "      <td>Urdu</td>\n",
              "    </tr>\n",
              "    <tr>\n",
              "      <th>2</th>\n",
              "      <td>Unke Dekhe Se</td>\n",
              "      <td>Jagjit Singh</td>\n",
              "      <td>/artist/jagjeet-singh-1</td>\n",
              "      <td>03:41</td>\n",
              "      <td>/unke-dekhe-se</td>\n",
              "      <td>Urdu</td>\n",
              "    </tr>\n",
              "    <tr>\n",
              "      <th>3</th>\n",
              "      <td>Yeh Na Thi Hamari Qismat - Chitra Singh</td>\n",
              "      <td>Chitra Singh</td>\n",
              "      <td>/artist/chitra-singh</td>\n",
              "      <td>04:26</td>\n",
              "      <td>/yeh-na-thi-hamari-qismat-2</td>\n",
              "      <td>Urdu</td>\n",
              "    </tr>\n",
              "    <tr>\n",
              "      <th>4</th>\n",
              "      <td>Hazaron Khwahishen Aisi</td>\n",
              "      <td>Jagjit Singh</td>\n",
              "      <td>/artist/jagjeet-singh-1</td>\n",
              "      <td>05:39</td>\n",
              "      <td>/hazaron-khwahishen-aisi-1</td>\n",
              "      <td>Urdu</td>\n",
              "    </tr>\n",
              "    <tr>\n",
              "      <th>...</th>\n",
              "      <td>...</td>\n",
              "      <td>...</td>\n",
              "      <td>...</td>\n",
              "      <td>...</td>\n",
              "      <td>...</td>\n",
              "      <td>...</td>\n",
              "    </tr>\n",
              "    <tr>\n",
              "      <th>41350</th>\n",
              "      <td>Chaaridike Paaper Andhar (Manush Janam Diye Bi...</td>\n",
              "      <td>Kishore Kumar</td>\n",
              "      <td>/artist/kishore-kumar</td>\n",
              "      <td>03:23</td>\n",
              "      <td>/chaaridike-paaper-andhar-manush-janam-diye-bidhi</td>\n",
              "      <td>Bengali</td>\n",
              "    </tr>\n",
              "    <tr>\n",
              "      <th>41351</th>\n",
              "      <td>Ei Ki Go Shesh Daan</td>\n",
              "      <td>Feroza Begum</td>\n",
              "      <td>/artist/feroza-begum</td>\n",
              "      <td>03:56</td>\n",
              "      <td>/ei-kigo-sesh-daan</td>\n",
              "      <td>Bengali</td>\n",
              "    </tr>\n",
              "    <tr>\n",
              "      <th>41352</th>\n",
              "      <td>Ei Je Bangla</td>\n",
              "      <td>Sandhya Mukherjee|Hemant Kumar</td>\n",
              "      <td>/artist/sandhya-mukherjee|/artist/hemanta-mukh...</td>\n",
              "      <td>07:36</td>\n",
              "      <td>/ei-je-bangla</td>\n",
              "      <td>Bengali</td>\n",
              "    </tr>\n",
              "    <tr>\n",
              "      <th>41353</th>\n",
              "      <td>Jatone Hridaye Rekho</td>\n",
              "      <td>Ajoy Chakrabarty</td>\n",
              "      <td>/artist/ajoy-chakrabarty</td>\n",
              "      <td>04:29</td>\n",
              "      <td>/jatone-hridaye-rekho</td>\n",
              "      <td>Bengali</td>\n",
              "    </tr>\n",
              "    <tr>\n",
              "      <th>41354</th>\n",
              "      <td>Tomar Je Oi Haater Mala</td>\n",
              "      <td>Asha Bhosle</td>\n",
              "      <td>/artist/asha-bhosle-1</td>\n",
              "      <td>03:22</td>\n",
              "      <td>/tomar-je-oi-haater-mala</td>\n",
              "      <td>Bengali</td>\n",
              "    </tr>\n",
              "  </tbody>\n",
              "</table>\n",
              "<p>41355 rows × 6 columns</p>\n",
              "</div>\n",
              "      <button class=\"colab-df-convert\" onclick=\"convertToInteractive('df-8a28fd94-c0c6-43c2-ad13-4f058b9172d6')\"\n",
              "              title=\"Convert this dataframe to an interactive table.\"\n",
              "              style=\"display:none;\">\n",
              "        \n",
              "  <svg xmlns=\"http://www.w3.org/2000/svg\" height=\"24px\"viewBox=\"0 0 24 24\"\n",
              "       width=\"24px\">\n",
              "    <path d=\"M0 0h24v24H0V0z\" fill=\"none\"/>\n",
              "    <path d=\"M18.56 5.44l.94 2.06.94-2.06 2.06-.94-2.06-.94-.94-2.06-.94 2.06-2.06.94zm-11 1L8.5 8.5l.94-2.06 2.06-.94-2.06-.94L8.5 2.5l-.94 2.06-2.06.94zm10 10l.94 2.06.94-2.06 2.06-.94-2.06-.94-.94-2.06-.94 2.06-2.06.94z\"/><path d=\"M17.41 7.96l-1.37-1.37c-.4-.4-.92-.59-1.43-.59-.52 0-1.04.2-1.43.59L10.3 9.45l-7.72 7.72c-.78.78-.78 2.05 0 2.83L4 21.41c.39.39.9.59 1.41.59.51 0 1.02-.2 1.41-.59l7.78-7.78 2.81-2.81c.8-.78.8-2.07 0-2.86zM5.41 20L4 18.59l7.72-7.72 1.47 1.35L5.41 20z\"/>\n",
              "  </svg>\n",
              "      </button>\n",
              "      \n",
              "  <style>\n",
              "    .colab-df-container {\n",
              "      display:flex;\n",
              "      flex-wrap:wrap;\n",
              "      gap: 12px;\n",
              "    }\n",
              "\n",
              "    .colab-df-convert {\n",
              "      background-color: #E8F0FE;\n",
              "      border: none;\n",
              "      border-radius: 50%;\n",
              "      cursor: pointer;\n",
              "      display: none;\n",
              "      fill: #1967D2;\n",
              "      height: 32px;\n",
              "      padding: 0 0 0 0;\n",
              "      width: 32px;\n",
              "    }\n",
              "\n",
              "    .colab-df-convert:hover {\n",
              "      background-color: #E2EBFA;\n",
              "      box-shadow: 0px 1px 2px rgba(60, 64, 67, 0.3), 0px 1px 3px 1px rgba(60, 64, 67, 0.15);\n",
              "      fill: #174EA6;\n",
              "    }\n",
              "\n",
              "    [theme=dark] .colab-df-convert {\n",
              "      background-color: #3B4455;\n",
              "      fill: #D2E3FC;\n",
              "    }\n",
              "\n",
              "    [theme=dark] .colab-df-convert:hover {\n",
              "      background-color: #434B5C;\n",
              "      box-shadow: 0px 1px 3px 1px rgba(0, 0, 0, 0.15);\n",
              "      filter: drop-shadow(0px 1px 2px rgba(0, 0, 0, 0.3));\n",
              "      fill: #FFFFFF;\n",
              "    }\n",
              "  </style>\n",
              "\n",
              "      <script>\n",
              "        const buttonEl =\n",
              "          document.querySelector('#df-8a28fd94-c0c6-43c2-ad13-4f058b9172d6 button.colab-df-convert');\n",
              "        buttonEl.style.display =\n",
              "          google.colab.kernel.accessAllowed ? 'block' : 'none';\n",
              "\n",
              "        async function convertToInteractive(key) {\n",
              "          const element = document.querySelector('#df-8a28fd94-c0c6-43c2-ad13-4f058b9172d6');\n",
              "          const dataTable =\n",
              "            await google.colab.kernel.invokeFunction('convertToInteractive',\n",
              "                                                     [key], {});\n",
              "          if (!dataTable) return;\n",
              "\n",
              "          const docLinkHtml = 'Like what you see? Visit the ' +\n",
              "            '<a target=\"_blank\" href=https://colab.research.google.com/notebooks/data_table.ipynb>data table notebook</a>'\n",
              "            + ' to learn more about interactive tables.';\n",
              "          element.innerHTML = '';\n",
              "          dataTable['output_type'] = 'display_data';\n",
              "          await google.colab.output.renderOutput(dataTable, element);\n",
              "          const docLink = document.createElement('div');\n",
              "          docLink.innerHTML = docLinkHtml;\n",
              "          element.appendChild(docLink);\n",
              "        }\n",
              "      </script>\n",
              "    </div>\n",
              "  </div>\n",
              "  "
            ]
          },
          "metadata": {},
          "execution_count": 2
        }
      ]
    },
    {
      "cell_type": "code",
      "source": [
        "df.isnull().sum()"
      ],
      "metadata": {
        "colab": {
          "base_uri": "https://localhost:8080/"
        },
        "id": "rVc_H49Hy_Rs",
        "outputId": "01a9481a-d1c2-4ffe-e4eb-da32cb202510"
      },
      "execution_count": 3,
      "outputs": [
        {
          "output_type": "execute_result",
          "data": {
            "text/plain": [
              "name         0\n",
              "singer       0\n",
              "singer_id    0\n",
              "duration     0\n",
              "link         0\n",
              "language     0\n",
              "dtype: int64"
            ]
          },
          "metadata": {},
          "execution_count": 3
        }
      ]
    },
    {
      "cell_type": "code",
      "source": [
        "df.singer.unique()"
      ],
      "metadata": {
        "colab": {
          "base_uri": "https://localhost:8080/"
        },
        "id": "q2-x9NKvx_Jr",
        "outputId": "5adb9240-b2f5-454c-e12a-2cbeee76a123"
      },
      "execution_count": 4,
      "outputs": [
        {
          "output_type": "execute_result",
          "data": {
            "text/plain": [
              "array(['Chitra Singh|Jagjit Singh', 'Jagjit Singh', 'Chitra Singh', ...,\n",
              "       'Bishnupada Das', 'Madhuri Chatterjee', 'Rabindranath Tagore'],\n",
              "      dtype=object)"
            ]
          },
          "metadata": {},
          "execution_count": 4
        }
      ]
    },
    {
      "cell_type": "code",
      "source": [
        "df.duration"
      ],
      "metadata": {
        "colab": {
          "base_uri": "https://localhost:8080/"
        },
        "id": "ULOnrM3SyaUz",
        "outputId": "e46cb6ff-6201-4158-9113-fe641d102f63"
      },
      "execution_count": 5,
      "outputs": [
        {
          "output_type": "execute_result",
          "data": {
            "text/plain": [
              "0        05:00\n",
              "1        06:26\n",
              "2        03:41\n",
              "3        04:26\n",
              "4        05:39\n",
              "         ...  \n",
              "41350    03:23\n",
              "41351    03:56\n",
              "41352    07:36\n",
              "41353    04:29\n",
              "41354    03:22\n",
              "Name: duration, Length: 41355, dtype: object"
            ]
          },
          "metadata": {},
          "execution_count": 5
        }
      ]
    },
    {
      "cell_type": "code",
      "source": [
        "duration = []\n",
        "for i in df['duration']:\n",
        "  m =  int(i.split(':')[0])\n",
        "  s = int(i.split(':')[1])\n",
        "  min  = (m*60)+ s \n",
        "  duration.append(min)"
      ],
      "metadata": {
        "id": "_etMUym-0FOU"
      },
      "execution_count": 6,
      "outputs": []
    },
    {
      "cell_type": "code",
      "source": [
        "df['duration_min'] = duration"
      ],
      "metadata": {
        "id": "diRHgHr91uVl"
      },
      "execution_count": 7,
      "outputs": []
    },
    {
      "cell_type": "code",
      "source": [
        "df.drop('duration',axis=1)"
      ],
      "metadata": {
        "colab": {
          "base_uri": "https://localhost:8080/",
          "height": 572
        },
        "id": "yb852cET1vK1",
        "outputId": "f81a7b9c-df95-4a86-bc68-f4dc253c9679"
      },
      "execution_count": 8,
      "outputs": [
        {
          "output_type": "execute_result",
          "data": {
            "text/plain": [
              "                                                    name  \\\n",
              "0                                  Dil - E - Nadan Tujhe   \n",
              "1                      Agar Hum Kahen Aur Woh Muskara De   \n",
              "2                                          Unke Dekhe Se   \n",
              "3                Yeh Na Thi Hamari Qismat - Chitra Singh   \n",
              "4                                Hazaron Khwahishen Aisi   \n",
              "...                                                  ...   \n",
              "41350  Chaaridike Paaper Andhar (Manush Janam Diye Bi...   \n",
              "41351                                Ei Ki Go Shesh Daan   \n",
              "41352                                       Ei Je Bangla   \n",
              "41353                               Jatone Hridaye Rekho   \n",
              "41354                            Tomar Je Oi Haater Mala   \n",
              "\n",
              "                               singer  \\\n",
              "0           Chitra Singh|Jagjit Singh   \n",
              "1           Chitra Singh|Jagjit Singh   \n",
              "2                        Jagjit Singh   \n",
              "3                        Chitra Singh   \n",
              "4                        Jagjit Singh   \n",
              "...                               ...   \n",
              "41350                   Kishore Kumar   \n",
              "41351                    Feroza Begum   \n",
              "41352  Sandhya Mukherjee|Hemant Kumar   \n",
              "41353                Ajoy Chakrabarty   \n",
              "41354                     Asha Bhosle   \n",
              "\n",
              "                                               singer_id  \\\n",
              "0           /artist/chitra-singh|/artist/jagjeet-singh-1   \n",
              "1           /artist/chitra-singh|/artist/jagjeet-singh-1   \n",
              "2                                /artist/jagjeet-singh-1   \n",
              "3                                   /artist/chitra-singh   \n",
              "4                                /artist/jagjeet-singh-1   \n",
              "...                                                  ...   \n",
              "41350                              /artist/kishore-kumar   \n",
              "41351                               /artist/feroza-begum   \n",
              "41352  /artist/sandhya-mukherjee|/artist/hemanta-mukh...   \n",
              "41353                           /artist/ajoy-chakrabarty   \n",
              "41354                              /artist/asha-bhosle-1   \n",
              "\n",
              "                                                    link language  \\\n",
              "0                                   /dil-e-nadan-tujhe-3     Urdu   \n",
              "1                    /agar-hum-kahen-aur-woh-muskura-den     Urdu   \n",
              "2                                         /unke-dekhe-se     Urdu   \n",
              "3                            /yeh-na-thi-hamari-qismat-2     Urdu   \n",
              "4                             /hazaron-khwahishen-aisi-1     Urdu   \n",
              "...                                                  ...      ...   \n",
              "41350  /chaaridike-paaper-andhar-manush-janam-diye-bidhi  Bengali   \n",
              "41351                                 /ei-kigo-sesh-daan  Bengali   \n",
              "41352                                      /ei-je-bangla  Bengali   \n",
              "41353                              /jatone-hridaye-rekho  Bengali   \n",
              "41354                           /tomar-je-oi-haater-mala  Bengali   \n",
              "\n",
              "       duration_min  \n",
              "0               300  \n",
              "1               386  \n",
              "2               221  \n",
              "3               266  \n",
              "4               339  \n",
              "...             ...  \n",
              "41350           203  \n",
              "41351           236  \n",
              "41352           456  \n",
              "41353           269  \n",
              "41354           202  \n",
              "\n",
              "[41355 rows x 6 columns]"
            ],
            "text/html": [
              "\n",
              "  <div id=\"df-86c96aff-e7fe-451c-a72d-b0dd375f635c\">\n",
              "    <div class=\"colab-df-container\">\n",
              "      <div>\n",
              "<style scoped>\n",
              "    .dataframe tbody tr th:only-of-type {\n",
              "        vertical-align: middle;\n",
              "    }\n",
              "\n",
              "    .dataframe tbody tr th {\n",
              "        vertical-align: top;\n",
              "    }\n",
              "\n",
              "    .dataframe thead th {\n",
              "        text-align: right;\n",
              "    }\n",
              "</style>\n",
              "<table border=\"1\" class=\"dataframe\">\n",
              "  <thead>\n",
              "    <tr style=\"text-align: right;\">\n",
              "      <th></th>\n",
              "      <th>name</th>\n",
              "      <th>singer</th>\n",
              "      <th>singer_id</th>\n",
              "      <th>link</th>\n",
              "      <th>language</th>\n",
              "      <th>duration_min</th>\n",
              "    </tr>\n",
              "  </thead>\n",
              "  <tbody>\n",
              "    <tr>\n",
              "      <th>0</th>\n",
              "      <td>Dil - E - Nadan Tujhe</td>\n",
              "      <td>Chitra Singh|Jagjit Singh</td>\n",
              "      <td>/artist/chitra-singh|/artist/jagjeet-singh-1</td>\n",
              "      <td>/dil-e-nadan-tujhe-3</td>\n",
              "      <td>Urdu</td>\n",
              "      <td>300</td>\n",
              "    </tr>\n",
              "    <tr>\n",
              "      <th>1</th>\n",
              "      <td>Agar Hum Kahen Aur Woh Muskara De</td>\n",
              "      <td>Chitra Singh|Jagjit Singh</td>\n",
              "      <td>/artist/chitra-singh|/artist/jagjeet-singh-1</td>\n",
              "      <td>/agar-hum-kahen-aur-woh-muskura-den</td>\n",
              "      <td>Urdu</td>\n",
              "      <td>386</td>\n",
              "    </tr>\n",
              "    <tr>\n",
              "      <th>2</th>\n",
              "      <td>Unke Dekhe Se</td>\n",
              "      <td>Jagjit Singh</td>\n",
              "      <td>/artist/jagjeet-singh-1</td>\n",
              "      <td>/unke-dekhe-se</td>\n",
              "      <td>Urdu</td>\n",
              "      <td>221</td>\n",
              "    </tr>\n",
              "    <tr>\n",
              "      <th>3</th>\n",
              "      <td>Yeh Na Thi Hamari Qismat - Chitra Singh</td>\n",
              "      <td>Chitra Singh</td>\n",
              "      <td>/artist/chitra-singh</td>\n",
              "      <td>/yeh-na-thi-hamari-qismat-2</td>\n",
              "      <td>Urdu</td>\n",
              "      <td>266</td>\n",
              "    </tr>\n",
              "    <tr>\n",
              "      <th>4</th>\n",
              "      <td>Hazaron Khwahishen Aisi</td>\n",
              "      <td>Jagjit Singh</td>\n",
              "      <td>/artist/jagjeet-singh-1</td>\n",
              "      <td>/hazaron-khwahishen-aisi-1</td>\n",
              "      <td>Urdu</td>\n",
              "      <td>339</td>\n",
              "    </tr>\n",
              "    <tr>\n",
              "      <th>...</th>\n",
              "      <td>...</td>\n",
              "      <td>...</td>\n",
              "      <td>...</td>\n",
              "      <td>...</td>\n",
              "      <td>...</td>\n",
              "      <td>...</td>\n",
              "    </tr>\n",
              "    <tr>\n",
              "      <th>41350</th>\n",
              "      <td>Chaaridike Paaper Andhar (Manush Janam Diye Bi...</td>\n",
              "      <td>Kishore Kumar</td>\n",
              "      <td>/artist/kishore-kumar</td>\n",
              "      <td>/chaaridike-paaper-andhar-manush-janam-diye-bidhi</td>\n",
              "      <td>Bengali</td>\n",
              "      <td>203</td>\n",
              "    </tr>\n",
              "    <tr>\n",
              "      <th>41351</th>\n",
              "      <td>Ei Ki Go Shesh Daan</td>\n",
              "      <td>Feroza Begum</td>\n",
              "      <td>/artist/feroza-begum</td>\n",
              "      <td>/ei-kigo-sesh-daan</td>\n",
              "      <td>Bengali</td>\n",
              "      <td>236</td>\n",
              "    </tr>\n",
              "    <tr>\n",
              "      <th>41352</th>\n",
              "      <td>Ei Je Bangla</td>\n",
              "      <td>Sandhya Mukherjee|Hemant Kumar</td>\n",
              "      <td>/artist/sandhya-mukherjee|/artist/hemanta-mukh...</td>\n",
              "      <td>/ei-je-bangla</td>\n",
              "      <td>Bengali</td>\n",
              "      <td>456</td>\n",
              "    </tr>\n",
              "    <tr>\n",
              "      <th>41353</th>\n",
              "      <td>Jatone Hridaye Rekho</td>\n",
              "      <td>Ajoy Chakrabarty</td>\n",
              "      <td>/artist/ajoy-chakrabarty</td>\n",
              "      <td>/jatone-hridaye-rekho</td>\n",
              "      <td>Bengali</td>\n",
              "      <td>269</td>\n",
              "    </tr>\n",
              "    <tr>\n",
              "      <th>41354</th>\n",
              "      <td>Tomar Je Oi Haater Mala</td>\n",
              "      <td>Asha Bhosle</td>\n",
              "      <td>/artist/asha-bhosle-1</td>\n",
              "      <td>/tomar-je-oi-haater-mala</td>\n",
              "      <td>Bengali</td>\n",
              "      <td>202</td>\n",
              "    </tr>\n",
              "  </tbody>\n",
              "</table>\n",
              "<p>41355 rows × 6 columns</p>\n",
              "</div>\n",
              "      <button class=\"colab-df-convert\" onclick=\"convertToInteractive('df-86c96aff-e7fe-451c-a72d-b0dd375f635c')\"\n",
              "              title=\"Convert this dataframe to an interactive table.\"\n",
              "              style=\"display:none;\">\n",
              "        \n",
              "  <svg xmlns=\"http://www.w3.org/2000/svg\" height=\"24px\"viewBox=\"0 0 24 24\"\n",
              "       width=\"24px\">\n",
              "    <path d=\"M0 0h24v24H0V0z\" fill=\"none\"/>\n",
              "    <path d=\"M18.56 5.44l.94 2.06.94-2.06 2.06-.94-2.06-.94-.94-2.06-.94 2.06-2.06.94zm-11 1L8.5 8.5l.94-2.06 2.06-.94-2.06-.94L8.5 2.5l-.94 2.06-2.06.94zm10 10l.94 2.06.94-2.06 2.06-.94-2.06-.94-.94-2.06-.94 2.06-2.06.94z\"/><path d=\"M17.41 7.96l-1.37-1.37c-.4-.4-.92-.59-1.43-.59-.52 0-1.04.2-1.43.59L10.3 9.45l-7.72 7.72c-.78.78-.78 2.05 0 2.83L4 21.41c.39.39.9.59 1.41.59.51 0 1.02-.2 1.41-.59l7.78-7.78 2.81-2.81c.8-.78.8-2.07 0-2.86zM5.41 20L4 18.59l7.72-7.72 1.47 1.35L5.41 20z\"/>\n",
              "  </svg>\n",
              "      </button>\n",
              "      \n",
              "  <style>\n",
              "    .colab-df-container {\n",
              "      display:flex;\n",
              "      flex-wrap:wrap;\n",
              "      gap: 12px;\n",
              "    }\n",
              "\n",
              "    .colab-df-convert {\n",
              "      background-color: #E8F0FE;\n",
              "      border: none;\n",
              "      border-radius: 50%;\n",
              "      cursor: pointer;\n",
              "      display: none;\n",
              "      fill: #1967D2;\n",
              "      height: 32px;\n",
              "      padding: 0 0 0 0;\n",
              "      width: 32px;\n",
              "    }\n",
              "\n",
              "    .colab-df-convert:hover {\n",
              "      background-color: #E2EBFA;\n",
              "      box-shadow: 0px 1px 2px rgba(60, 64, 67, 0.3), 0px 1px 3px 1px rgba(60, 64, 67, 0.15);\n",
              "      fill: #174EA6;\n",
              "    }\n",
              "\n",
              "    [theme=dark] .colab-df-convert {\n",
              "      background-color: #3B4455;\n",
              "      fill: #D2E3FC;\n",
              "    }\n",
              "\n",
              "    [theme=dark] .colab-df-convert:hover {\n",
              "      background-color: #434B5C;\n",
              "      box-shadow: 0px 1px 3px 1px rgba(0, 0, 0, 0.15);\n",
              "      filter: drop-shadow(0px 1px 2px rgba(0, 0, 0, 0.3));\n",
              "      fill: #FFFFFF;\n",
              "    }\n",
              "  </style>\n",
              "\n",
              "      <script>\n",
              "        const buttonEl =\n",
              "          document.querySelector('#df-86c96aff-e7fe-451c-a72d-b0dd375f635c button.colab-df-convert');\n",
              "        buttonEl.style.display =\n",
              "          google.colab.kernel.accessAllowed ? 'block' : 'none';\n",
              "\n",
              "        async function convertToInteractive(key) {\n",
              "          const element = document.querySelector('#df-86c96aff-e7fe-451c-a72d-b0dd375f635c');\n",
              "          const dataTable =\n",
              "            await google.colab.kernel.invokeFunction('convertToInteractive',\n",
              "                                                     [key], {});\n",
              "          if (!dataTable) return;\n",
              "\n",
              "          const docLinkHtml = 'Like what you see? Visit the ' +\n",
              "            '<a target=\"_blank\" href=https://colab.research.google.com/notebooks/data_table.ipynb>data table notebook</a>'\n",
              "            + ' to learn more about interactive tables.';\n",
              "          element.innerHTML = '';\n",
              "          dataTable['output_type'] = 'display_data';\n",
              "          await google.colab.output.renderOutput(dataTable, element);\n",
              "          const docLink = document.createElement('div');\n",
              "          docLink.innerHTML = docLinkHtml;\n",
              "          element.appendChild(docLink);\n",
              "        }\n",
              "      </script>\n",
              "    </div>\n",
              "  </div>\n",
              "  "
            ]
          },
          "metadata": {},
          "execution_count": 8
        }
      ]
    },
    {
      "cell_type": "code",
      "source": [
        "pd.unique(df['name'])"
      ],
      "metadata": {
        "colab": {
          "base_uri": "https://localhost:8080/"
        },
        "id": "FUYjmnyj29Em",
        "outputId": "c1facf14-982e-4e79-c78b-94b7cc39f287"
      },
      "execution_count": 9,
      "outputs": [
        {
          "output_type": "execute_result",
          "data": {
            "text/plain": [
              "array(['Dil - E - Nadan Tujhe', 'Agar Hum Kahen Aur Woh Muskara De',\n",
              "       'Unke Dekhe Se', ..., 'Ei Je Bangla', 'Jatone Hridaye Rekho',\n",
              "       'Tomar Je Oi Haater Mala'], dtype=object)"
            ]
          },
          "metadata": {},
          "execution_count": 9
        }
      ]
    },
    {
      "cell_type": "code",
      "source": [
        "df"
      ],
      "metadata": {
        "colab": {
          "base_uri": "https://localhost:8080/",
          "height": 624
        },
        "id": "EOznVe5C38nd",
        "outputId": "21d4b16a-717c-451e-a275-8408fab7ecbd"
      },
      "execution_count": 10,
      "outputs": [
        {
          "output_type": "execute_result",
          "data": {
            "text/plain": [
              "                                                    name  \\\n",
              "0                                  Dil - E - Nadan Tujhe   \n",
              "1                      Agar Hum Kahen Aur Woh Muskara De   \n",
              "2                                          Unke Dekhe Se   \n",
              "3                Yeh Na Thi Hamari Qismat - Chitra Singh   \n",
              "4                                Hazaron Khwahishen Aisi   \n",
              "...                                                  ...   \n",
              "41350  Chaaridike Paaper Andhar (Manush Janam Diye Bi...   \n",
              "41351                                Ei Ki Go Shesh Daan   \n",
              "41352                                       Ei Je Bangla   \n",
              "41353                               Jatone Hridaye Rekho   \n",
              "41354                            Tomar Je Oi Haater Mala   \n",
              "\n",
              "                               singer  \\\n",
              "0           Chitra Singh|Jagjit Singh   \n",
              "1           Chitra Singh|Jagjit Singh   \n",
              "2                        Jagjit Singh   \n",
              "3                        Chitra Singh   \n",
              "4                        Jagjit Singh   \n",
              "...                               ...   \n",
              "41350                   Kishore Kumar   \n",
              "41351                    Feroza Begum   \n",
              "41352  Sandhya Mukherjee|Hemant Kumar   \n",
              "41353                Ajoy Chakrabarty   \n",
              "41354                     Asha Bhosle   \n",
              "\n",
              "                                               singer_id duration  \\\n",
              "0           /artist/chitra-singh|/artist/jagjeet-singh-1    05:00   \n",
              "1           /artist/chitra-singh|/artist/jagjeet-singh-1    06:26   \n",
              "2                                /artist/jagjeet-singh-1    03:41   \n",
              "3                                   /artist/chitra-singh    04:26   \n",
              "4                                /artist/jagjeet-singh-1    05:39   \n",
              "...                                                  ...      ...   \n",
              "41350                              /artist/kishore-kumar    03:23   \n",
              "41351                               /artist/feroza-begum    03:56   \n",
              "41352  /artist/sandhya-mukherjee|/artist/hemanta-mukh...    07:36   \n",
              "41353                           /artist/ajoy-chakrabarty    04:29   \n",
              "41354                              /artist/asha-bhosle-1    03:22   \n",
              "\n",
              "                                                    link language  \\\n",
              "0                                   /dil-e-nadan-tujhe-3     Urdu   \n",
              "1                    /agar-hum-kahen-aur-woh-muskura-den     Urdu   \n",
              "2                                         /unke-dekhe-se     Urdu   \n",
              "3                            /yeh-na-thi-hamari-qismat-2     Urdu   \n",
              "4                             /hazaron-khwahishen-aisi-1     Urdu   \n",
              "...                                                  ...      ...   \n",
              "41350  /chaaridike-paaper-andhar-manush-janam-diye-bidhi  Bengali   \n",
              "41351                                 /ei-kigo-sesh-daan  Bengali   \n",
              "41352                                      /ei-je-bangla  Bengali   \n",
              "41353                              /jatone-hridaye-rekho  Bengali   \n",
              "41354                           /tomar-je-oi-haater-mala  Bengali   \n",
              "\n",
              "       duration_min  \n",
              "0               300  \n",
              "1               386  \n",
              "2               221  \n",
              "3               266  \n",
              "4               339  \n",
              "...             ...  \n",
              "41350           203  \n",
              "41351           236  \n",
              "41352           456  \n",
              "41353           269  \n",
              "41354           202  \n",
              "\n",
              "[41355 rows x 7 columns]"
            ],
            "text/html": [
              "\n",
              "  <div id=\"df-a5008bf2-5b18-4295-afc5-4afdd3ef4ddf\">\n",
              "    <div class=\"colab-df-container\">\n",
              "      <div>\n",
              "<style scoped>\n",
              "    .dataframe tbody tr th:only-of-type {\n",
              "        vertical-align: middle;\n",
              "    }\n",
              "\n",
              "    .dataframe tbody tr th {\n",
              "        vertical-align: top;\n",
              "    }\n",
              "\n",
              "    .dataframe thead th {\n",
              "        text-align: right;\n",
              "    }\n",
              "</style>\n",
              "<table border=\"1\" class=\"dataframe\">\n",
              "  <thead>\n",
              "    <tr style=\"text-align: right;\">\n",
              "      <th></th>\n",
              "      <th>name</th>\n",
              "      <th>singer</th>\n",
              "      <th>singer_id</th>\n",
              "      <th>duration</th>\n",
              "      <th>link</th>\n",
              "      <th>language</th>\n",
              "      <th>duration_min</th>\n",
              "    </tr>\n",
              "  </thead>\n",
              "  <tbody>\n",
              "    <tr>\n",
              "      <th>0</th>\n",
              "      <td>Dil - E - Nadan Tujhe</td>\n",
              "      <td>Chitra Singh|Jagjit Singh</td>\n",
              "      <td>/artist/chitra-singh|/artist/jagjeet-singh-1</td>\n",
              "      <td>05:00</td>\n",
              "      <td>/dil-e-nadan-tujhe-3</td>\n",
              "      <td>Urdu</td>\n",
              "      <td>300</td>\n",
              "    </tr>\n",
              "    <tr>\n",
              "      <th>1</th>\n",
              "      <td>Agar Hum Kahen Aur Woh Muskara De</td>\n",
              "      <td>Chitra Singh|Jagjit Singh</td>\n",
              "      <td>/artist/chitra-singh|/artist/jagjeet-singh-1</td>\n",
              "      <td>06:26</td>\n",
              "      <td>/agar-hum-kahen-aur-woh-muskura-den</td>\n",
              "      <td>Urdu</td>\n",
              "      <td>386</td>\n",
              "    </tr>\n",
              "    <tr>\n",
              "      <th>2</th>\n",
              "      <td>Unke Dekhe Se</td>\n",
              "      <td>Jagjit Singh</td>\n",
              "      <td>/artist/jagjeet-singh-1</td>\n",
              "      <td>03:41</td>\n",
              "      <td>/unke-dekhe-se</td>\n",
              "      <td>Urdu</td>\n",
              "      <td>221</td>\n",
              "    </tr>\n",
              "    <tr>\n",
              "      <th>3</th>\n",
              "      <td>Yeh Na Thi Hamari Qismat - Chitra Singh</td>\n",
              "      <td>Chitra Singh</td>\n",
              "      <td>/artist/chitra-singh</td>\n",
              "      <td>04:26</td>\n",
              "      <td>/yeh-na-thi-hamari-qismat-2</td>\n",
              "      <td>Urdu</td>\n",
              "      <td>266</td>\n",
              "    </tr>\n",
              "    <tr>\n",
              "      <th>4</th>\n",
              "      <td>Hazaron Khwahishen Aisi</td>\n",
              "      <td>Jagjit Singh</td>\n",
              "      <td>/artist/jagjeet-singh-1</td>\n",
              "      <td>05:39</td>\n",
              "      <td>/hazaron-khwahishen-aisi-1</td>\n",
              "      <td>Urdu</td>\n",
              "      <td>339</td>\n",
              "    </tr>\n",
              "    <tr>\n",
              "      <th>...</th>\n",
              "      <td>...</td>\n",
              "      <td>...</td>\n",
              "      <td>...</td>\n",
              "      <td>...</td>\n",
              "      <td>...</td>\n",
              "      <td>...</td>\n",
              "      <td>...</td>\n",
              "    </tr>\n",
              "    <tr>\n",
              "      <th>41350</th>\n",
              "      <td>Chaaridike Paaper Andhar (Manush Janam Diye Bi...</td>\n",
              "      <td>Kishore Kumar</td>\n",
              "      <td>/artist/kishore-kumar</td>\n",
              "      <td>03:23</td>\n",
              "      <td>/chaaridike-paaper-andhar-manush-janam-diye-bidhi</td>\n",
              "      <td>Bengali</td>\n",
              "      <td>203</td>\n",
              "    </tr>\n",
              "    <tr>\n",
              "      <th>41351</th>\n",
              "      <td>Ei Ki Go Shesh Daan</td>\n",
              "      <td>Feroza Begum</td>\n",
              "      <td>/artist/feroza-begum</td>\n",
              "      <td>03:56</td>\n",
              "      <td>/ei-kigo-sesh-daan</td>\n",
              "      <td>Bengali</td>\n",
              "      <td>236</td>\n",
              "    </tr>\n",
              "    <tr>\n",
              "      <th>41352</th>\n",
              "      <td>Ei Je Bangla</td>\n",
              "      <td>Sandhya Mukherjee|Hemant Kumar</td>\n",
              "      <td>/artist/sandhya-mukherjee|/artist/hemanta-mukh...</td>\n",
              "      <td>07:36</td>\n",
              "      <td>/ei-je-bangla</td>\n",
              "      <td>Bengali</td>\n",
              "      <td>456</td>\n",
              "    </tr>\n",
              "    <tr>\n",
              "      <th>41353</th>\n",
              "      <td>Jatone Hridaye Rekho</td>\n",
              "      <td>Ajoy Chakrabarty</td>\n",
              "      <td>/artist/ajoy-chakrabarty</td>\n",
              "      <td>04:29</td>\n",
              "      <td>/jatone-hridaye-rekho</td>\n",
              "      <td>Bengali</td>\n",
              "      <td>269</td>\n",
              "    </tr>\n",
              "    <tr>\n",
              "      <th>41354</th>\n",
              "      <td>Tomar Je Oi Haater Mala</td>\n",
              "      <td>Asha Bhosle</td>\n",
              "      <td>/artist/asha-bhosle-1</td>\n",
              "      <td>03:22</td>\n",
              "      <td>/tomar-je-oi-haater-mala</td>\n",
              "      <td>Bengali</td>\n",
              "      <td>202</td>\n",
              "    </tr>\n",
              "  </tbody>\n",
              "</table>\n",
              "<p>41355 rows × 7 columns</p>\n",
              "</div>\n",
              "      <button class=\"colab-df-convert\" onclick=\"convertToInteractive('df-a5008bf2-5b18-4295-afc5-4afdd3ef4ddf')\"\n",
              "              title=\"Convert this dataframe to an interactive table.\"\n",
              "              style=\"display:none;\">\n",
              "        \n",
              "  <svg xmlns=\"http://www.w3.org/2000/svg\" height=\"24px\"viewBox=\"0 0 24 24\"\n",
              "       width=\"24px\">\n",
              "    <path d=\"M0 0h24v24H0V0z\" fill=\"none\"/>\n",
              "    <path d=\"M18.56 5.44l.94 2.06.94-2.06 2.06-.94-2.06-.94-.94-2.06-.94 2.06-2.06.94zm-11 1L8.5 8.5l.94-2.06 2.06-.94-2.06-.94L8.5 2.5l-.94 2.06-2.06.94zm10 10l.94 2.06.94-2.06 2.06-.94-2.06-.94-.94-2.06-.94 2.06-2.06.94z\"/><path d=\"M17.41 7.96l-1.37-1.37c-.4-.4-.92-.59-1.43-.59-.52 0-1.04.2-1.43.59L10.3 9.45l-7.72 7.72c-.78.78-.78 2.05 0 2.83L4 21.41c.39.39.9.59 1.41.59.51 0 1.02-.2 1.41-.59l7.78-7.78 2.81-2.81c.8-.78.8-2.07 0-2.86zM5.41 20L4 18.59l7.72-7.72 1.47 1.35L5.41 20z\"/>\n",
              "  </svg>\n",
              "      </button>\n",
              "      \n",
              "  <style>\n",
              "    .colab-df-container {\n",
              "      display:flex;\n",
              "      flex-wrap:wrap;\n",
              "      gap: 12px;\n",
              "    }\n",
              "\n",
              "    .colab-df-convert {\n",
              "      background-color: #E8F0FE;\n",
              "      border: none;\n",
              "      border-radius: 50%;\n",
              "      cursor: pointer;\n",
              "      display: none;\n",
              "      fill: #1967D2;\n",
              "      height: 32px;\n",
              "      padding: 0 0 0 0;\n",
              "      width: 32px;\n",
              "    }\n",
              "\n",
              "    .colab-df-convert:hover {\n",
              "      background-color: #E2EBFA;\n",
              "      box-shadow: 0px 1px 2px rgba(60, 64, 67, 0.3), 0px 1px 3px 1px rgba(60, 64, 67, 0.15);\n",
              "      fill: #174EA6;\n",
              "    }\n",
              "\n",
              "    [theme=dark] .colab-df-convert {\n",
              "      background-color: #3B4455;\n",
              "      fill: #D2E3FC;\n",
              "    }\n",
              "\n",
              "    [theme=dark] .colab-df-convert:hover {\n",
              "      background-color: #434B5C;\n",
              "      box-shadow: 0px 1px 3px 1px rgba(0, 0, 0, 0.15);\n",
              "      filter: drop-shadow(0px 1px 2px rgba(0, 0, 0, 0.3));\n",
              "      fill: #FFFFFF;\n",
              "    }\n",
              "  </style>\n",
              "\n",
              "      <script>\n",
              "        const buttonEl =\n",
              "          document.querySelector('#df-a5008bf2-5b18-4295-afc5-4afdd3ef4ddf button.colab-df-convert');\n",
              "        buttonEl.style.display =\n",
              "          google.colab.kernel.accessAllowed ? 'block' : 'none';\n",
              "\n",
              "        async function convertToInteractive(key) {\n",
              "          const element = document.querySelector('#df-a5008bf2-5b18-4295-afc5-4afdd3ef4ddf');\n",
              "          const dataTable =\n",
              "            await google.colab.kernel.invokeFunction('convertToInteractive',\n",
              "                                                     [key], {});\n",
              "          if (!dataTable) return;\n",
              "\n",
              "          const docLinkHtml = 'Like what you see? Visit the ' +\n",
              "            '<a target=\"_blank\" href=https://colab.research.google.com/notebooks/data_table.ipynb>data table notebook</a>'\n",
              "            + ' to learn more about interactive tables.';\n",
              "          element.innerHTML = '';\n",
              "          dataTable['output_type'] = 'display_data';\n",
              "          await google.colab.output.renderOutput(dataTable, element);\n",
              "          const docLink = document.createElement('div');\n",
              "          docLink.innerHTML = docLinkHtml;\n",
              "          element.appendChild(docLink);\n",
              "        }\n",
              "      </script>\n",
              "    </div>\n",
              "  </div>\n",
              "  "
            ]
          },
          "metadata": {},
          "execution_count": 10
        }
      ]
    },
    {
      "cell_type": "markdown",
      "source": [
        "#Data Analysis"
      ],
      "metadata": {
        "id": "849qpfoA-ljM"
      }
    },
    {
      "cell_type": "markdown",
      "source": [
        "What are all the languages in the dataset? "
      ],
      "metadata": {
        "id": "B2bYfBy6AjBV"
      }
    },
    {
      "cell_type": "code",
      "source": [
        "for i in df['language'].unique():\n",
        "  print(i)"
      ],
      "metadata": {
        "colab": {
          "base_uri": "https://localhost:8080/"
        },
        "id": "a2-e5V4zAmMM",
        "outputId": "4af4e67a-dd57-49e9-d494-c3c97725ebba"
      },
      "execution_count": 11,
      "outputs": [
        {
          "output_type": "stream",
          "name": "stdout",
          "text": [
            "Urdu\n",
            "Gujarati\n",
            "Tamil\n",
            "Kannada\n",
            "Rajasthani\n",
            "Haryanvi\n",
            "Punjabi\n",
            "Hindi\n",
            "Old\n",
            "Malayalam\n",
            "Marathi\n",
            "Telugu\n",
            "Odia\n",
            "Bhojpuri\n",
            "Assamese\n",
            "Bengali\n"
          ]
        }
      ]
    },
    {
      "cell_type": "markdown",
      "source": [
        "Average Duration of a song thorughout the dataset"
      ],
      "metadata": {
        "id": "cBeUTIwwBDfX"
      }
    },
    {
      "cell_type": "code",
      "source": [
        "print(\"Average duration of a song is\",int(df['duration_min'].sum() /len(df['duration_min'])))"
      ],
      "metadata": {
        "colab": {
          "base_uri": "https://localhost:8080/"
        },
        "id": "YalZX5hdAzkH",
        "outputId": "97e300a7-4ccb-4d9e-a042-92f1b39d4b2a"
      },
      "execution_count": 12,
      "outputs": [
        {
          "output_type": "stream",
          "name": "stdout",
          "text": [
            "Average duration of a song is 295\n"
          ]
        }
      ]
    },
    {
      "cell_type": "markdown",
      "source": [
        "How many laguages of songs are there is the dataset?"
      ],
      "metadata": {
        "id": "fNes2fPjCqag"
      }
    },
    {
      "cell_type": "code",
      "source": [
        "len(df['language'].unique())\n"
      ],
      "metadata": {
        "colab": {
          "base_uri": "https://localhost:8080/"
        },
        "id": "EV6nqZtOBPtw",
        "outputId": "9ea98129-5afa-477b-c3fc-af7f084260b8"
      },
      "execution_count": 13,
      "outputs": [
        {
          "output_type": "execute_result",
          "data": {
            "text/plain": [
              "16"
            ]
          },
          "metadata": {},
          "execution_count": 13
        }
      ]
    },
    {
      "cell_type": "markdown",
      "source": [
        "How many Tamil songs are there?"
      ],
      "metadata": {
        "id": "lolfeNM8CuJe"
      }
    },
    {
      "cell_type": "code",
      "source": [
        "c = len(df[df['language']=='Tamil'])\n",
        "print('There are',c,'songs in Tamil')\n"
      ],
      "metadata": {
        "colab": {
          "base_uri": "https://localhost:8080/"
        },
        "id": "_S_SXrz0C7xS",
        "outputId": "424dd870-ba29-4283-f100-13e5215278ce"
      },
      "execution_count": 14,
      "outputs": [
        {
          "output_type": "stream",
          "name": "stdout",
          "text": [
            "There are 4677 songs in Tamil\n"
          ]
        }
      ]
    },
    {
      "cell_type": "markdown",
      "source": [
        "Number of songs in each Language?"
      ],
      "metadata": {
        "id": "6DsezCTODZUH"
      }
    },
    {
      "cell_type": "code",
      "source": [
        "df['language'].value_counts()"
      ],
      "metadata": {
        "colab": {
          "base_uri": "https://localhost:8080/"
        },
        "id": "UJcFZ-oGE5D0",
        "outputId": "e410296d-a83c-4598-c392-a2d29434e34f"
      },
      "execution_count": 15,
      "outputs": [
        {
          "output_type": "execute_result",
          "data": {
            "text/plain": [
              "Telugu        4996\n",
              "Hindi         4993\n",
              "Old           4993\n",
              "Marathi       4699\n",
              "Tamil         4677\n",
              "Punjabi       3818\n",
              "Kannada       3559\n",
              "Urdu          3116\n",
              "Gujarati      2115\n",
              "Bengali        958\n",
              "Odia           940\n",
              "Assamese       724\n",
              "Rajasthani     541\n",
              "Bhojpuri       519\n",
              "Malayalam      479\n",
              "Haryanvi       228\n",
              "Name: language, dtype: int64"
            ]
          },
          "metadata": {},
          "execution_count": 15
        }
      ]
    },
    {
      "cell_type": "markdown",
      "source": [
        "Average Duration of song in each language ?"
      ],
      "metadata": {
        "id": "LMOsPznOHsC1"
      }
    },
    {
      "cell_type": "code",
      "source": [
        "for i in df['language'].unique():\n",
        "  print(i,':' ,int(df[df['language'] == i]['duration_min'].mean()))\n"
      ],
      "metadata": {
        "colab": {
          "base_uri": "https://localhost:8080/"
        },
        "id": "VNROsFDNKsGb",
        "outputId": "57bff147-f385-44bf-c7b8-111bc9bc29a7"
      },
      "execution_count": 16,
      "outputs": [
        {
          "output_type": "stream",
          "name": "stdout",
          "text": [
            "Urdu : 407\n",
            "Gujarati : 271\n",
            "Tamil : 270\n",
            "Kannada : 250\n",
            "Rajasthani : 291\n",
            "Haryanvi : 320\n",
            "Punjabi : 324\n",
            "Hindi : 307\n",
            "Old : 307\n",
            "Malayalam : 242\n",
            "Marathi : 281\n",
            "Telugu : 279\n",
            "Odia : 257\n",
            "Bhojpuri : 357\n",
            "Assamese : 228\n",
            "Bengali : 255\n"
          ]
        }
      ]
    },
    {
      "cell_type": "markdown",
      "source": [
        "How many unique singers are there in the dataset?"
      ],
      "metadata": {
        "id": "uqg_ka-4Tpzf"
      }
    },
    {
      "cell_type": "code",
      "source": [
        "all_singer = []\n",
        "for singers in df['singer']:\n",
        "  all_singer +=singers.split('|')\n"
      ],
      "metadata": {
        "id": "-CGXgouEcwzN"
      },
      "execution_count": 17,
      "outputs": []
    },
    {
      "cell_type": "code",
      "source": [
        "all_singer_output = set()\n",
        "for x in all_singer:\n",
        "    all_singer_output.add(x)\n",
        "print(all_singer_output)"
      ],
      "metadata": {
        "colab": {
          "base_uri": "https://localhost:8080/"
        },
        "id": "xf47s1qmnsQG",
        "outputId": "2e22292a-406a-4466-b8a4-668dc07d40ee"
      },
      "execution_count": 18,
      "outputs": [
        {
          "output_type": "stream",
          "name": "stdout",
          "text": [
            "{'Gana Bala', 'Dinendra Chowdhury', 'Om Pawar', 'Suresh Oberoi', 'Kamla Goel', 'Asif Javed', 'P. S. Subbiah', 'Anant Kunte', 'Mandhir', 'Kusum Tanwar', 'Gauri Kavi', 'Ila Kakoti', 'Bhanwar Lal Nimaaj', 'K.Rani', 'Ramchandra Navgaonkar', 'Jasraj Joshi', 'C. H. Atma', 'Bhavna Lonkar', 'Surekha Kothari', 'Qamar Uz Zaman', 'Salim Merchant', 'Kartar Ramla', 'H. K. Narayana', 'Pushpalatha', 'Sapna Awasthi', 'Sohan Singh Rasia', 'Deepan Chakarvarthy', 'Sunandha', 'Surinder Mohini', 'Kshama Bajikar', 'Rekha Bhardwaj', 'Safdar Hussain Khan', 'H. P. Geeta', 'Rajan Angrish', 'Nivedan', 'Akkineni Nageswara Rao', 'Bhikari Bal', 'Bachu Khan', 'Sunanda Shah', 'Devika', 'Sathyanarayana', 'B.Chennakeshava', 'Shyamala Balakrishnan', 'Kanwal Sindhu', 'Zahida Sultana', 'Kanta Rao', 'Narayan Bodas', 'Nirmal Kalita', 'Bani Tagore', 'Dharamsi Raja', 'Jaishri Shivram', 'Ghulam Kadar Hashmi Qawwal', 'Ajoy Chakrwarti', 'Chetan Gadhvi', 'Sanjay Sanwant', 'Swagatika Mahapatra', 'Raghu Pradhan', 'Rema Lahiri', 'SAHANA BAJPEI', 'Swinder Singh Pardesi', 'Swapan Basu', 'Ramkumar Chatterjee', 'Asha Nath', 'Mohd. Siddiq', 'RADHA RANI', 'Tassawar Khanum', 'Kuldeep Manak', 'Sudhir Phadke', 'Khursheed Begum', 'Sushil Das', 'Madhusudan Shastri', 'Pushpa Rani', 'H.P. Geetha', 'Shaan', 'Akhyay Mohanty', 'Leelavathi', 'Wahidur Rahman', 'Dwijadas Chakraborty', 'Seema Sharma', 'Bhanumathi Ramakrishna', 'Ambili', 'GEETA RANI', 'Harcharan Singh Safri', 'Bhargavram Achrekar', 'Jojo', 'A. P. Komala', 'Neelam Sahni', 'Arja', 'Akbar Ali', 'Sulamangalam Sister', 'Anil Kapoor', 'Satyen Kappu', 'Archana Mahanta', 'Runa Prasad', 'Siddiq Ismail', 'M.S. Subbulakshmi', 'Maidass', 'Ashwini Sastry', 'Sumitra Lehri', 'Sathyam Pithapuram', 'Apurba Das', 'Sushil Kumar', 'B. Kamlesh Kumari', 'Shahida Mani', 'Hemanth', 'Rajinder Kaur', 'K. R. Vijaya', 'Shanta Singh', 'Pt. Kumar Gandharva', 'Dilip Ghosh', 'Sujata Mukherjee', 'Gurdev Kaur', 'C S Jayaraman', 'Bhupen Hazarika', 'usha Chavan', 'Khagendranath Phukan', 'Farhat Shuja', 'Air Orchestra', 'Pushpa Shah', 'Ravichandran', 'Kumari Ranjana', 'Pandit Brij Bhushan Kabra', 'Udaykumar Upadhyay', 'Indrani Ganguly', 'Aruna Sharma', 'C.K. Rama', 'G. Balakrishna Prasad', 'Chakravarthi', 'B.S.Sasirekha', 'Amit Dasgupta', 'Mona Vyas', 'Rukmani', 'Vairamuthu', 'Ratnamala Prakash', 'Anaamika Group', 'Parshuram Taaywaade', 'Arundhuti', 'Mukkamala Sunanda', 'Kamal Hanspal', 'Krishna Kalle', 'Veljibhai Gajjar', 'Dilip Sharma', 'S P Sailaja', 'S. Sowmya', 'Dimple Kapadia', 'Subhas Chakraborty', 'Anil Chatterjee', 'Sushma Joshi', 'Ustad Nazakat Ali Khan', 'N. Suryaprakash', 'Jiten Deka', 'Andaman Islands', 'Raagini', 'Qayum Ahmed', 'Maj. Birman', 'Shakti Thakur', 'Jolly Abraham', 'Rajanna', 'Jayalalithaa', 'Kashinath', 'Ambar Gayakwad', 'Faiz Mohd Baloch', 'Ustad Nathoo Khan', 'Jagannatha Mohanty', 'Shyam Sagar', 'Hemlata Parmar', 'Bikahs', 'Sadhana Das', 'Vishnu Waghmare', 'Nahid Akhtar', 'Unknown', 'Anuradha Paudwal', 'T. N. Balakrishna', 'Veena Mehta', 'Harjit Gill', 'Lakhjeet Singh Lakhha', 'Chandrabhaga Gaikwad', 'Pandit Hariprasad Chaurasia', 'T Rajendar', 'Parampreet Kaur', 'A.K. Vyas', 'Bhaskar Das', 'Hrishikesh Kamerkar', 'Vishnuvardhan', 'Others', 'Jaychandran', 'Mohammad Hanif Kumhar', 'Angnes Davidson', 'Rajesh Khanna', 'A. K. Vyas', 'A. V. Mohammed', 'Rajendra Prasad', 'Alam Lohar', 'A. Chandrasekhar', 'Calcutta Youth Choir', 'Pintoo Bhattacharya', 'Devi Das', 'Sarvjeet Sharma', 'Kamlesh Avasthi', 'Silambarasan', 'Latha Hamsalekha', 'Kishore Kumar', 'Lakshmi', 'Bhai Gurmeet Singh Shant Jalandhar Wale', 'Dwarakish', 'Sangeeta Mohapatra', 'Mandhir Pandit', 'Suez Bordoloi', 'Mohammad Tufail Niazi', 'The Original Cast of Ghashiram Kotwal', 'ANJANA SINGH', 'Lakhan Pal Lakhan', 'Ku.Meghana Babu', 'V.S.Narasimhan', 'Saira Hussain', 'Sabitabrata Dutta', 'Kamalini Mukherji', 'Shivaji Ganesan', 'Shanta Apte', 'Vijay Benedict', 'Lalitha Sagari', 'D. Ramadevi', 'Geetanjali', 'Trupti Dash', 'Shubhalaxmi', 'R. Rajeshwari', 'Tej Kaur', 'Narendra Chanchal', 'S.S. Dhillon', 'Krishna', 'Jyoti Matwankar', 'Latha Kannan', 'Parshuram Taywade', 'Pandit jitendra Abhisheki', 'Chittaranjan Jena', 'Kalyani Deshmukh', 'Shankar Dasgupta', 'Biren Deka', 'Arjun Charan Samal', 'Anumolu Venkata Subba Rao', 'Shankar Shambhu', 'Sangeeta Bhatia', 'Alakananda Wadekar', 'Deepak Kumar Chatterjee', 'Fakira Pattnaik', 'Gayathri Ashokan', 'ARCHANA PURAN SINGH', 'Mallikarjuna Rao', 'Surinder Pal Babbi', 'Rani Varma', 'Sarsthi Mathur', 'Kunda Bokil', 'Roshan Ara Begum', 'Victor Martin', 'Dwijen Mukherjee', 'Sunanda Chorus', \"'Shruti'-Group - Ahmedabad\", 'S C Krishnan', 'L. Vaidyanathan', 'Mandakini', 'Jaideep Bagwadkar', 'Anuradha Bhat', 'Anand Bakshi', 'Datta Jadhav', 'S. Pushpa', 'Sujatha Mohan', 'Ramamani', 'Madhabi', 'Afshan Ahmed', 'Ina Mukherjee', 'Sai Baba', 'Bhubaneshwari Mishra', 'Lakhabhai V. Gadhavi', 'Rajkumar Mago', 'nchinger', 'Salman Khan', 'Kalyan', 'Suresh', 'T. V. Raju', 'Raja Raja Cholan', 'Maalasri .F. Kanavi', 'Hussain Bukhsh Khan', 'Parijat', 'Kalyanji Anandji', 'M. Balamuralikrishna', 'Papiha', 'Narinder Biba', 'Kailash Kher', 'Thyagarajan', 'DILAWAR BABU', 'Manubhai Agravat', 'M. L. Vasanthakumari', 'Mano Prabhakar', 'Radharaman Kirtane', 'P. Radha', 'Mahananda Majindar Baruah', 'T.V. Gopalakrishnan', 'Feroza Begum', 'Sri Jayan', 'Archana Saksena', 'Vidhyaa', 'Aarchanarajim Wale', 'Khursheed Bano', 'Madhavapeddi Ramesh', 'Bonti Borah', 'Neyyatinkara Vasudevan', 'Bhai Bhupinder Singh', 'Kamal Barot', 'Kala Sohni', 'Tarannum Naz', 'Sreenivasa Sreedhar', 'Kamlesh Mishra', 'Snehalata Das', 'Asomi', 'Sarat Sharma', 'HUSSAIN BLOCH', 'Aparajita Dutta', 'Arshi Hyderabadi', 'Sankar Ghosh', 'Dharam Singh', 'Meena Devi', 'Nabila Jafar', 'Savita Saathi', 'Zerina Chauhan', 'Badripawar', 'Madan Mohan', 'Ustad Bade Ghulam Ali Khan', 'T M S Selvakumar', 'Paramjit Siddhu', 'Bhaktha Swaraa Bhajan Mandali', 'P. Suri Babu', 'Prabhakar Nagvekar', 'Shaukat Ali', 'Feroz Khan', 'A. Rama Devi', 'Meenakshi', 'dasarath das', 'Rita', 'Mina Mohanty', 'BIHARI KAVI', 'Bhanti Barua', 'Rashida Begam', 'Humera chaudhri', 'Laxmikant', 'Savita Sethi', 'Udai Upadhye', 'Shashi Kapoor', 'Udit Narayan', 'Om Rahi', 'Geeta Dash', 'Jagga', 'Mallika Duraipandian', 'Johan Bejerholm', 'Anupama Deshapande', 'Padmaja Phenani', 'Shobha Gurtu', 'Jayaben', 'Nagen Barman', 'Prashant', 'Parkash Jhalli', 'Kazi Aniruddha', 'D S  Ruben', 'Sagar Sen', 'Ranjana Thakur', 'Abida Parveen', 'Meena Patel', 'Sukhchain Kaur', 'Kortum Hardikar', 'Ilaiyaraaja', 'Mohammed Alam Khan', 'Rabindranath Tagore', 'Gemini Mahalingam', 'Pragna Khandekar', 'M. G. Ramachandran', 'Ghazala Ashfaq', 'S.Padma', 'Suresh Haldankar', 'Group Song', 'Vitthal Umap', 'Alok Nath', 'Mohan Singh Chatha', 'Dipen Lahkar', 'Malladi Chandrasekhara Sastry', 'Anju Devi', 'R. Nagendra Rao', 'Badari Prasad', 'Ratnaben', 'Amar Roy', 'Rajinder Singh Raj', 'Preet Sagar', 'Tufail Niazi', 'Parminder Sandhu', 'Geeta Patnaik', 'Munna Azad Qawwal', 'Anand kumar C.', 'Sushma', 'Bihu Group', 'Ouseppachan', 'Bhavna Labadia', 'Yusuf Azad Qawwal', 'Kiran Sharma', 'M.P.N. Ponnuswamy', 'Anousha Manchandani', 'Talat Aziz', 'Usha Amonkar', 'HEERA LAL YADAV', 'Shammi Kapoor', 'Charanjit Ahuja', 'Mallik', 'Sonali', 'K.V. Prasad', 'Chandra Bose', 'Naseema Shaheen', 'Ruchi Tailang', 'Minoo Chadha', 'Kiran Vairale', 'Prakash Saathi', 'Vaijyanti Limye', 'Devki Anand', 'Kareena Kapoor', 'G. Nageshwara Naidu', 'Sunil Ganguly', 'Ananthu', 'Hemant Kumar', 'Samar Hazarika', 'Debajani Borah', 'Madhur Adib', 'Meerabai', 'Aashit Desai', 'Parwana', 'Chirantan Bhatt', 'Lalita Davjaker', 'Late Gahan Goswami', 'Romesh Sharma', 'Prashant Damle', 'Samina Zahid', 'A. Kasthuri', 'Nandini Ganesh', 'Anuja', 'Rachipal Singh Pal', 'Rama Aravind', 'Dilawar Figaar', 'Nawab Kumar', 'Lucky Ali', 'Shahir Nivruti Pawar', 'Surinder Biba', 'Usha Rege', 'Sadhana Singh', 'Naga Hills', 'Dhira Ghosh', 'Bimla Rani', 'Hariharan', 'Bhai Surinder Singh', 'Sb H.K. Thakur', 'C.H. Atma', 'Aparna Mayekar', 'Shri Bhawar Chaudhari', 'Parvati Khan', 'Amjad Bobby', 'Mansoor Ali Malangi', 'Shylaja', 'BABY MUNMI', 'Shazia', 'N. Rajeswara Rao', 'V. K. Naik', 'Kali Dasu', 'Pandit Ram Marathe', 'Chatulal Bachhfore', 'Neelam', 'Ashok Saraf', 'Idu Khan', 'Mumtaz Shirazi', 'sohail rana', 'Md.hanif Quawwal', 'Sudeep Banerj', 'Amjad Boby', 'Karsan Sagathia', 'Master Manjunath', 'Chunni Jaipuri', 'Amrish Puri', 'Mano Raj', 'DEENA NATH YADAV', 'Assam singers with percussion from Kohima', 'Kovai Soundarajan', 'Sarifuddin Ahmed', 'Gurdial Singh Randawa', 'Gemini Ganesan', 'Sanat Singha', 'Roshan Lal Sagar', 'Munni Begum', 'Chaitra H G', 'Ustad Hamid Ali Khan', 'Usha Khanna', 'Vidhya Shingre', 'Amita Nangia', 'BECHAN RAM', 'Dijen Kakati', 'Mohamed Raffee', 'Mugatlal Joshi', 'Shantaram Nandgaonkar', 'Swaroop Naik', 'Sonik', 'Tafo Brothers', 'M. P. N. Ponnuswamy', 'Vasant Rao Deshpande', 'Ira Mohanty', 'JAMAL KHANKRISHNA KALLEAND SATHI', 'Pratap Singh Bodade', 'Gururaj Hoskote', 'Bhupesh', 'Shiv Kumar Naker', 'Bhai Trilochan Singh', 'Tulshiram Bua Dixit', 'Chandrabose', 'Anet', 'Pawar Sobat', 'Master Kesarilal Gandharv', 'Hrushi Meher', 'Triloki Verma', 'Gurucharan', 'Abavanan', 'Chandrashekhar Gadgil', 'Rao Bala Saraswathi Devi', 'Seergazhi G.Sivachidambaram', 'Mala', 'Masum', 'Sushil Mullick', 'Durga Jasraj', 'M. Rama Rao', 'Piara Singh Panchi', 'Sumita Chakraborty', 'Shankar Shambhu Qawwal', 'Deepan Chakravarthy', 'Ramesh Deo', 'Manik Varma', 'Balraj Bhatankar', 'P. Susheela And Chorus', 'J. Adeni', 'Bharti Marathe', 'Taj Multani', 'Rajeshwari Sachdev', 'Bhaal Singh', 'Veena Bamane', 'Manomay Bhattacharyya', 'Leela', 'Vanijayaram', 'Sagarika Barua', 'Sunil Dutt', 'Daksha Vegda', 'Parveen Mirza', 'Mohini', 'Srikanta Das', 'Charulata Belsare', 'Gopal Lal Vohra', 'Kesar Singh Kesar', 'Balbir', 'Nagore Babu', 'Roshan Satarkar', 'Akshya', 'Priti Sagar', 'Ustad Ali Ahmed Hussain', 'Reshama', 'Poonam Dhillon', 'Etishre Das', 'Aju Barkakati', 'Lipika Nanda', 'Valjibhai Koli', 'V. Nataraja Mudaliar', 'Manimala', 'T. R. Raghunath', 'Aarchana Rajimwale', 'Chandru Atma', 'Uttar Pradesh soloist', 'Lakshman Kapaade', 'S.balbir Singh Aatish', 'Chinna Murthy', 'Sunitha Chandrakumar', 'Smt. Jayasudha', 'Bibha Barua', 'Subhash Todwal', 'Kashiben Gohil', 'Group', 'Padma Subrahmaniam', 'Y. K. Muddukrishna', 'Asa Singh Mastana', 'Gurcharan Pohli', 'Soumya T R', 'Rameshwar Pathak', 'K. Rani', 'Rajan Mankame', 'Kuldeep Paras', 'Awaaz', 'Shamim Chopra', 'Prbhakar Karekar', 'Atish Majumder', 'Seema Deo', 'Vishwanath Bhosle', 'Vijayaramani', 'Nagesh', 'Harbhajan Mann', 'Harish', 'K. L. Agnihotri', 'Bhagwanbhai Jalu', 'Abraham Bhagat', 'Harnam Singh', 'Sheshgiri Hangal', 'Bheemrao Panchale', 'Kasthuri Shankar', 'Jivram Bhagat', 'Bhai Sadhu Singh Dehradun Wale', 'Suparnakanti Ghosh', 'Vivek Sarathy', 'Assam singers with percussion from Siluk', 'Mohammad Saeed', 'Dr. N. Ramani', 'Archana Rajimwale', 'T.k. Kala', 'Sowmitri', 'Pushpa Pagdhare', 'Shahir Pandurang Vanmali', 'Dari Ram Lakhia', 'Mukkamala Dhoolipala', 'M S Sethi', 'Surinddr Shinda', 'Swati Pandit', 'Bhubaneswari Mishra', 'Kulbhushan Kharbanda', 'Pranabiram Baruah', 'Ali Muhammad Rizvi', 'Leena Pradeep', 'Lavani Samragyi', 'Jaiwant Kulkarni', 'afzal hussain khan', 'Vinod Kumar', 'Kumud Sahay', 'Rekibuddin Ahmed', 'Kamal Bhamra', 'Laxmidevi', 'Maipala Vijayalakshmi', 'Bhai Ravinder Singh', 'Debasis Mahapatro', 'Shankar- Shambhu Qawwal', 'Merriene', 'Nisha', 'M. G. Ramachandran Anjali Devi Padmni', 'Chand Sanware', 'Prof. Darshan Singh Khalsa', 'Pratima Banerjee', 'Safdarjung Rana', 'Naresh Kanodia', 'Krishna Murthy Naidu', 'Usha Atre', 'Shaila Madhukar', 'Kabban Mirza', 'Usha Bhusawal', 'Snehlata', 'Shreya Ghoshal', 'Malasiya Vasudeva Chorus', 'Lakshmi Bai', 'Milind Shinde', 'Triple \"S\" Sisters', 'Sharad Kumar', 'Balraj Rana', 'Raj Seetharam', 'Ustad Bundo Khan', 'Allah Jilai Bai', 'Sarojini', 'Vaidehi', 'Narasimha Naik', 'K. S. Kooner', 'Bina Sharma', 'Mohan Maharaj Nimbarak', 'R. K. Shrikantan', 'Abhi Bhattacharya', 'G. Anand', 'Maharajan', 'Kanwar Ajit Singh', 'K. S. Chithra', 'Ambilikuttan', 'Annasaheb Kirloskar', 'Renu Barua', 'Arbor Hills', 'ismail valera', 'Nami Gaen', 'Behroze Chatterjee', 'Ramjibhai Thalakiya Mafatlal', 'Habib Painter Qawwal', 'Sadhu Kokila', 'Pramodini Desai', 'Glory', 'K.R. Vijaya', 'Sunil Kumar', 'Chimanbhai Dantani', 'K Bhagyaraj Chorus', 'Prathima Athreya', 'Pulipaka Venkatappiah', 'Sri Priya', 'Kabita Hazarika', 'Lalitha', 'Parvez Mehdi', 'Asad Amanat Ali', 'Nellai S.M.Abul Barakath', 'JAISRI SHIVRAM', 'Nagore E. M. Hanifa', 'Shakti Kapoor', 'Pandit Marutibua Bagde', 'Rajan Bhosle', 'Lissi Jose', 'B. Saroja Devi', 'Balakrishna Das', 'Luli Sarangi', 'Pushpa Fukan Dubra', 'Nimesh Desai', 'Peenaz Masani', 'Akhter Ali Khan', 'Gurmit Bawa', 'Suhasini Koratkar', 'Nitu', 'Tradtional', 'Saptarshi', 'Rajee Narayan', 'Sumithra', 'Harsha', 'Sarita Goswami', 'Chaman Lal Chaman', 'Pitthukuli Murugadas', 'Shubha', 'Pramila Datar', 'Salma', 'Mangla', 'Raj Sitaram', 'Kalpana', 'Sukhwant Kaur', 'Shobha Raju', 'M. R. Radha', 'Various', 'Ruby John', 'S.M. Yusuf', 'Arun Jangale', 'Ramesh', 'Gouri Bapat', 'Bajirao', 'Paramjit Ghungrana', 'M.d Pallavi', 'Shamim Soma', 'Dilip Prabhakar', 'Kumar Dilu', 'Heman Kakati', 'Nazakat Ali Khan', 'S. Sarala', 'Sukhdev Safri', 'Biswajit Roychowdhury', 'Bahuddin Hajibhai', 'Baleswar', 'N. Chandran', 'Utpala', 'Pratima Mukherjee', 'Chelshankar Dave', 'Ragi Harbans Singh Jagadhari Wale', 'K Srinivasamurthy', 'Kankana Banerjee', 'Paresh Pevekar', 'Zohra Bai Ambala Wali', 'Prof. Gurbachan Singh Talib', 'S.K. Mahan', 'Vidhu Prathap', 'Chhoti Bano Sikarwali', 'V. Ramakrishna', 'Sulamangalam Murali', 'Yogesh Khadikar', 'Hamid Khan', 'Anitha Reddy', 'Kalyani Mitra', 'Neelaavara Ramakrishnayaa', 'Dina Gandharva', 'Maruti Bua Bagde', 'Sandhya Rao', 'Hemlata Shah', 'Renu Chaudhary', 'Subas Dash', 'Raj Bala', 'R. D. Burman', 'Sarojini Aroor', 'Swapan Gupta', 'Nitin Raikwar', 'Hirabai Barodekar', 'Khan Ghulam Khwaja', 'Rijuwana Sultana', 'Devkumar Ghayal', 'Madhavepeddi Ramesh', 'Late Girikanta Mohanto', 'Suryakamal', 'Salim', 'Renuka', 'Uma Dubey', 'Swaran Lata', 'Ram Laxman', 'Padmja', 'Khursheed Ahmed', 'Salman Arshad', 'N. Vasudevan', 'Madhu Bohra', 'Lalita Pawar', 'Reshma Chowdhury', 'Babloo', 'Kamini Kaushal', 'Bhai Balwinder Singh Rangila', 'Vasumati Donde', 'Raghunath Pradhan', 'Sumitra Roy', 'Pradeepji', 'Yashwant Thakur', 'Shamim', 'Fakir Pattanaik', 'Munawar Ali Khan', 'Chittoor V. Nagaiah', 'P Santhakumari', 'Samina Ashfaq', 'Unspecified', 'Abhay Patwardhan', 'Vandna Tailang', 'N. Rama', 'Dhanada Pathak', 'M.L.Vasanthakumari', 'Saathi', 'Pranlal Vyas', 'Dr Sirkazhi G. Sivachidambaram', 'P. S. Vaidehi', 'Bitu Samajpati', 'Usatad Hamid Hussain', 'Banikantha Nimai Charan Harichandan', 'Iqbal Ahmed Siddiqi', 'Brij', 'Kripananda Variyar', 'Rajesh Roshan', 'B. Gopalam', 'Trupti Das', 'Puspa Das', 'Ashok Hande', 'Akash Group', 'Md.siddique', 'Vandana Khandekar', 'Pt. Ram Marathe', 'Ram Sasoni', 'Sunny Deol', 'Anand Kumar', 'Bhai Bhagwant Singh Ragi', 'Naren Das', 'Anuradha Parkash', \"Ravinder Kumar 'Ravi'\", 'Anatte', 'Hemen Das', 'Robin Mukherjee', 'Sumita Sanyal', 'S. P. B. Pallavi', 'Prameela', 'Ashalata Bhagat', 'Anu Barkakati', 'Kuldip Parwana', 'Prakash Mehra', 'Jaspinder Narula', 'Lalit Pandit', 'Khurshid Aalam', 'Amrik Singh Arora', 'Pukhraj Purohit', 'Ramgopal Varma', 'Panna Quawal', 'Ramprasad', 'Sanjay Raizada', 'D. G. S. Dhinakaran', 'Pandit V. R. Athvale', 'Pravindan Gadhavi', 'Jasbir Khushdil', 'Asad Amanat Ali Khan', 'Suryakant Shinde', 'S. Mohinder', 'V. Latha Lakshmi', 'Prakash Kaur', 'P Nageshwara Rao', 'Preeti Bala', 'Amar Singh Sherpuri', 'Yashpal Arthur', 'S. Vidyarani', 'Manisha Hazarika', 'Yasmin Faizabadi', 'Baljit Kaur Bali', 'Jaywant Kulkarni', 'Shakti Kumar', 'Nazir Mohd', 'Afshan Jafar', 'Priya Jamkhedkar', 'Hari Om Sharan', 'Mohan Kannan', 'Anant Panchal', 'Asif Ali', 'Bapurao Pendharkar', 'Manhar Udhas', 'Jhansi', 'master balkishan', 'Saroj Gundani', 'T.R. Mahalingam', 'Rati Agnihotri', 'N S Prakash Rao', 'A Sven Peter', 'C.S. Sarojini Devi', 'Barkat Sidhu', 'Dilip Dholakiya', 'Udaykumar', 'Mohammad Ali Shyhaki', 'Chhaya Ganguli', 'M.P.N. Sethuraman', 'P.C. Rao', 'Asha Bhosle', 'R.K. Shriram Kumar', 'Vadhirajar', 'Bharat Sharma Vyas', 'P.V. Sekhar', 'Bhoopendra Singh', 'Mamta Singh', 'Sadhana Sargam', 'Mayavati Bodade', 'Rajni Gupta', 'Rangila Jatt', 'B. Bhaskar Reddy', 'Alif Din Pathan', 'Shahir Purang', 'Pt. Bhargavram Achrekar', 'Bhaktraj Dula Bhagat', 'Gangai Amaran', 'Sadiq Ali', 'Mohd Saddiq Ismail', 'Milind Ingle', 'G.Venugopal', 'Other s', 'Daleep Singh Deep', 'Miss Lipi', 'Mohd Aavid', 'Vinu', 'Govind Powle', 'Mukul Agarwal', 'H. S. Dill', 'Ilyas Hussain Khan Patyalewale', 'Neelagaara', 'Dilipnad Gaikwad', 'K. S. George', 'Rajkanya', 'MADHAVAPEDDI SATHYAM', 'Hanif Agrewala', 'Nandamuri Raja', 'Sowcar Janaki', 'Sabina Yasmeen', 'Krishna Hangal', 'Tiruchi Loganathan', 'Kanchana', 'Moushumi Chatterjee', 'Baleshwar', 'JAYASHREE', 'R. Jayanthy', 'Vinda Karindkar', 'Keshar Jainu', 'Rashida Khatoon', 'Shridhar Kekare', 'M. ASHOK', 'Gurnam Singh Hira', 'Sant Surjeet Singh Ji', 'NARESH KANODIYA', 'Chirala Subbiah', 'N. Krishnamurthy Raju', 'Sandip Bhattacharya', 'Bhai Dharam Singh Ragi', 'Mohd. Sajid', 'Rekha Rao', 'S. Janaki', 'Obaidullah Aleem', 'Padma Arora', 'Bhimsen Satapathi', 'Rajkanya Harsh', 'Vilayil Fazeela', 'Shree Satyanand Maharaj', 'Mohammad Aziz', 'Sunidhi Chauhan', 'kalinga rao', 'Anjali', 'Munir Hussain', 'Maniraj Barot', 'Pushpa Hans', 'Darsha Singhdarsha', 'Sonu Nigam', 'Jayesh Nayak', 'Shankar Qawal', 'Bangshidhar Das', 'Subir Nandi', 'Badari', 'S. Varalakshmi', 'Mohammad Salim Qawwal', 'Suresh Gopi', 'Vaishali Samant', 'Mohd. Sadiq', 'A. M. Rajah', 'M.J. Sebastian', 'Alisha Chinai', 'N.T. Rama Rao', 'Prabhasini Rath', 'Ismail Azad Qawwal', 'K.deep', 'Ali Haider', 'S Janaki P Susheela', 'Joan Mascarenhas', 'Minoo Purshottam', 'Jayavanthi Heremut', 'Raj Kishan', 'Ramesh Bhagi', 'Chandna Dixit', 'Azhar Javed', 'Shrikant Pargaonkar', 'Shahir Damodar Vitavkar', 'Meenakshi Gupta', 'Hansa Dave', 'Rmeswar Pathak', 'Shruti Pathak', 'Shubhangi Joshi', 'Shilpi Mathur', 'Harshada Rawal', 'Male Assam soloist', 'M.R. Vijaya', 'Binni Krishnakumar', 'Jogila Siddarajuprathima Athreya', 'AMARJEET KAVI', 'Gopi Patnayak', 'Karan Singh Makroliya', 'Subbanarasimhayya', 'Rambhai Kag', 'Vinjamuri Krishna Murthy', 'Muhammad Afzal Khan', 'Madhuvanti Dandekar', 'Valee', 'S.P. Kodandapani', 'Vibhakar', 'Maheshwar', 'Ashit Desai', 'Sathyanarayana Kantharrao Rajanala', 'Kaalia Of Zamana Group', 'Ram Niwas Sharma', 'Sirkazhi Govindarajan', 'Zeenat Aman', 'Utra Kelkarsaathi', 'Arati Misra', 'Rajanala', 'Balappa Hukkeri', 'Rangila', 'Usharani', 'M. Thangappa', 'Soli Kapadiya', 'Sri Pathi', 'Simha', 'Shoba Sekar', 'Sunita Kapoor', 'Raees Khan', 'Rajkamal', 'Dr Mrutyunjaya Swami', 'Janaki Dutta', 'M S Rajeshwari', 'Keshto Mukherjee', 'Aditya', 'Prafulla Dave', 'Sulamangalam R Rajalakshmi', 'Pravinkumar', 'Maseem Begum', 'Nirmal Mishra', 'Prabhakar Pokharikar', 'Kanak Mohapatra', 'Sharad Jambhekar', 'Vasant Bapat', 'Banani Ghosh', 'Bhai Harjinder Singh Ji', 'Akriti Kakar', 'Kalpana Bhuyan', 'Krishna Hanagal', 'Susama Mishra', 'Prof.hari Dev', 'Akbar Quawwal', 'Tej Kaur Tej', 'Kumari Dharitri', 'Master Ravi', 'Sanghamitra Banerjee', 'Suzi Miller', 'Jayavant Nadkarni', 'P. Susheela', 'Bangalore Latha', 'Balakram', 'Mohammad Rafiq Kumhar', 'Bharati Choudhury', 'Nirupa Roy', 'Abhay Bhargav', 'Veerinder Katiaal', 'Thakur', 'Lokeswar Deka', 'Ghanatasala', 'Nazir Mohd.', 'Roshan Sagar', 'Jaishankar', 'Vijayanti Limaye', 'Arun Date', 'B.V.U. Raghupathy', 'Afsar Hussain Khan', 'Rajee', 'Poornam Viswanathan', 'Ajit Parab', 'Aziz Miyan Qawwal', 'K. Chakravarthy', 'Om Prakash Yadav', 'Siddhartha Mishra', 'Nirmal Sidhu', 'Jupiters', 'Suraiya Khanum', 'Sharavathi', 'Sachin', 'Raghunath Panigrahi', 'Vithal Hedukar', 'Zareef', 'Shmim Khan', 'Shaam Diwana', 'Barnali Hazarika', 'Vandemataram Srinivas', 'Brian Silas', 'Gikk Garewal', 'Reema Lagoo', 'Rajni Karkare', 'Akshya Mohanty', 'P Suhseela', 'Danny Denzongpa', 'Urmila Srivastav', 'Mohini Narula', 'Ranjna Joglekar', 'Ratikumar Vyas', 'Bhai Tarlochan Singh Ji', 'Jomuna Rani', 'Ravindra Sathe', 'Gulshan Bawa', 'Vasudev', 'Meena Chakraborty', 'Milind Hingle', 'G. K. Venkatesh', 'Sudakshina Sharma', 'M.S. Rama Rao', 'M. Raju', 'Dhanna Singh Rangila', 'Sheik Mohammed', 'Rajni Pandey', 'Khan Sahib Ustad Abdul Karim Khan', 'Abhijit Mukherjee', 'Noor Jehan', 'Praveen Saba', 'Stella Paul', 'Pradeep', 'Zubaida Khanum', 'Nibha Deka', 'Balgandharva', 'Anand Kaur Bohra', 'Faiyyaz', 'Vasanth', 'Suman Hemady', 'Sudarshan', 'Poornima', 'Begum Akhtar', 'Supriya', 'Artists of Churu', 'Vijay(C. Joseph Vijay)', 'Sudhakar Kanade', 'Shamshad Begum', 'Ramlakhan', 'Sarala', 'Ramesh Mehta', 'Shri Bhanwar Chaudhari', 'Pazhani M.Sikkander', 'Rashid Hairan', 'K. L. Saigal', 'Barkat Ali Khan', 'Kanchan', 'J.V. Ragubala', 'Sajid', 'Samarjeet Samar', 'Shahida Munni', 'G.I. Mohandas', 'Mamta Sing', 'Nagendrappa', 'Parveen Shakir', 'Shahir Vitthal Umap', 'S Reuben', 'Harbert Murril', 'Latha Raju', 'sushama shreshtha', 'V.Laxmi', 'S.P.Charan', 'Jamil Uddin Aali', 'Shanikumar Shelar', 'S Varalakshmi', 'M. Krishnamurthy', 'Akshya Mohanty Baboo', 'Kovai Murali', 'Jamila Bano', 'Shiv Prasad Nath', 'Suchet Bala', 'Jolly', 'Mohammed Dilshad Khan', 'Bhal Singh', 'Vishnu', 'Meena Joshi', 'Sasmita', 'S. Balachander', 'Mukesh Shivram', 'Ajaib Singh Rai', 'S. Alamelu', 'Anuradha Sriram', 'Manorama', 'Jency', 'Moti Lal Bohra', 'Swarnalatha', 'Bhavana Lonkar', 'Gajalakshmi', 'Lalitha Kumari', 'T. Selvakumar', 'Hemanti Shukla', 'N. T. Rama Rao', 'Nagachandrika Bhat', 'Sushma Seth', 'Shital', 'S. H. Subramanyam', 'Guru Tegh Bahadurji', 'Alisha', 'Vijayapriya', 'Jayshree', 'Om Puri', 'Muhammad Juman', 'Keshar', 'Anant Vernekar', 'Dharmendra', 'Rao Balasaraswathi Devi', 'Saira Bano Faizabadi', 'Sangeeta Katti', 'Meenu Chadha', 'Jaymala Shiledar', 'Sudhir Phadle', 'Neelakshi Juvekar', 'Paravai', 'Abburi Varaprasada Rao', 'Dhiren Vyas', 'Earl Hines', 'Suman Kalyanpur', 'Geeta Das', 'Iftekhar Imam', 'Karur Nagaraj', 'H. M. V. Orchestra', 'S.P.Saradha (Thirupur Sisters)', 'Shakeela Bano Poonvi', 'Swapan Pathak', 'Bro D.G.S. Dhinakaran', 'Jadav', 'Bipin Panchal', 'Jatin Pandit', 'Laxmikant  - Pyarelal', 'Tape Radha Manickam', 'Uday Upadhyay', 'Bishnupada Das', 'Amar Noori', 'Yashvant Thakur', 'Senthamari', 'Jagjeet Kaur', 'Naba Mahattam', 'Bhimrao Panchale', 'Dwipen Baruah', 'B. V. Karanth', 'Jayanta Das', 'Prasad Kavale', 'Ghulam Ali', 'MEENA RAI', 'Iboo Quawwal', 'Ashok Panchal', 'ARPANA CHAUDHARY', 'Paavalar Brothers', 'Swamis And Brahma Charins Of The Ramakri', 'Sivagami', 'Chandan Dass', 'Rabi Ghosh', 'Tripti Chhaya', 'Manmohan Mohni', 'Dushant Jogish', 'YASHPAL SINGH', 'Mahesh Kumar', 'Ramdas Padhye', 'Aniruddha Prasad Singh', 'Zarin Daruwala', 'Arun Sarnaik', 'Shaikh Najamuddin', 'Late Dayal Sutradhar', 'Manonmani Shankar', 'Johnny Walker', 'Shri Sohan Singh', 'Anupama Deshpande', 'Seema Siddiqi', 'Joytsna Mohile', 'Mohan Singh', 'Krishna Patel', 'Ghanshyam Nayak', 'Amjad', 'Aruna Boorganvkar', 'Naeim Ajmeri', 'Chitta Jena', 'Leslie', 'Bhupatdan Gadhavi', 'Shyam', 'Rukmani Nagraj', 'Nagendra', 'S.Kamala Devi', 'Mangesh Dutt', 'T. V. C. N. Rajagopal', 'Vijay Lakshmi Jain', 'Shyamasree Mazumder', 'Balkrishna Dave', 'Seema', 'K. Bhagyaraj', 'Prabhakar Samal', 'Rakhi Sarkar', 'Nighat Seema', 'Viraj Upadhyaya', 'S. Rajalakshmi', 'Bani Barua', 'Hasan Ismail Solanki', 'Anima Das', 'Subhal Axmidash', 'B.K. Sumitra', 'Seema Trivedi', 'Ramji Das Nimahi', 'Utpal Dutt', 'Roshan Satarkar rukmini', 'Sahib Singh', 'Ramila', 'Minal Rao', 'P.V. Chalapathi Rao', 'Snigdha Nayaik', 'Kavi Bhagwan Sahai Sen', 'Suraiyya Khanum', 'Ramdas Kamat', 'Vitthal Hedukar', 'Rajashree Thosar', 'Hunuman Sahai', 'S.k.rana', 'V.Rama Krishna', 'Kumar Sonic', 'S. K. Ravi', 'Arindam', 'Shakuntala Kambli', 'K. Veermani', 'Na', 'Shaheen Ansari', 'Vidyarani', 'Badruddin', 'G. M. Londhe', 'Prashant Nandgaonkar', 'Jaishri', 'Kalyanam Raghuramaiah', 'Pt. Hridaynath Mangeshkar', 'Sushmadevi Maheshkar', 'R. Sudha', 'Jeetendra', 'Prasad Sawkar', 'I Solisti Di Napoli', 'M.L. Sudhakar', 'Ramanathapuram S.S.A.Wahid', 'H. Khan Mastana', 'Ustad Amanat Ali khan', 'Debnarayan Chatterjee', 'Sudha Malhotra', 'Hemkant Jha', 'roshanlal khatri', 'Antara Chwdhury', 'M. S. Sheela', 'Hiremagalur Pradeep', 'C. S. Jayaraman', 'Bharathi Paul', 'Ramona', 'Vijay Arora', 'Pallavi', 'Mehmood', 'Navnaath Bhoir', 'Balakdas Kapadi', 'A.V.N.Murthy', 'Nagur', 'Sadananda Gogoi', 'Ila Desai', 'B.S. Balakrishna', 'Jyostna Hardikar', 'Joo Joo Anuradha', 'Mohd. Siddique', 'B.Vasantha', 'Bhalchandra Pendarkar', 'Anima Talukdar', 'Bani Das', 'Manubhai Babariya', 'Ravi Sharma', 'Nima Devi', 'Ashok Khare', 'Dr.Tarak Prashan Tripathi', 'Humaira Channa', 'Dadubhai K. Gadhavi', 'B. Souri', 'Ashwini T N', 'Raj Bhora', 'Ost', 'Nalini Chowdhury', 'Madhu Bhora', 'Hemant Chauhan', 'G.K.Venkatesh', 'Pranab Patnaik', 'Meenu Chadda', 'Asaf Ali', 'Nirmal Singh Nirmal', 'Children', 'Atif Aslam', 'Gayatri', 'Deepak Adhikari', 'Kohinoor Langa', 'Siddheshwari Devi', 'V Rama Krishna', 'Raj Babbar', 'Rajeethram', 'I. S. Johar', 'Lalita Dhar Chowdhury', 'S.V. Ponnusamy', 'Bro. V. Nataraja Mudaliar', 'Lopamudra Mitra', 'Arnab Chakraborty', 'Shahir Pundalik Pharande', 'Babubhai Ranpura', 'A. S. Kang', 'Abdur Usuf Qawwal', 'Yash Ludhianvi', 'K.Swarna', 'AhmedRushdi', 'Sabita Chowdhury', 'T. A. Mothi', 'Madhu Khamkar', 'Usha Uthup', 'Jaswant Singh Sandila', 'Gopi Krishan', 'Lathika', \"Devender 'Billa'\", 'Kulvant Kaur', 'Meenakshi Sheshadri', 'Fazal Hussain', 'Meenakshi Nanda', 'Bharati Kunchala', 'L.Andrewkumar', 'Kannur Rajan', 'Moti', 'Aarti Hawaladar', 'Yugendharan', 'Chandra Mohan', 'Arun Das', 'MANOHAR UDASH', 'Harshika', 'Sajjad Ali', 'Nandi Duggal', 'KUMAR SONIKDILRAJ KAUR', 'Mohammed Aabid', 'Bijal Upadhyay', 'Paraful Dave', 'Saud Khan', 'Naimul Hassan', 'Vijay Redkar', 'S. Kedharnath', 'Panna Lal Bhattacharjee', 'Rakhee', 'Laxmikant - Pyarelal', 'Vijayalaxmi', 'Kamala Unhavne', 'Roshan-e-Zafar', 'Sonali Vajpayee', 'Madhu Kambikar', 'Bhai Nazar Singh Dehradun Wale', 'Shalini Singh', 'Gopal Bohra', 'Pranita Barman', 'Shanta Sharma', 'Manashi Mukherjee', 'Sheela Shethia', 'Chandrani', 'Rajesh Mehta', 'Jyotsna Mohile', 'Dinkar Shinde', 'Harcharan Garewal', 'Jolly Mukherjee', 'Rameswar Pathak', 'S. GOVINDARAJAN', 'Parag Chaliha', 'Krystal Klear', 'Mahant Hiralal Hira', 'Shridhar Phadke', 'Srikanto Acharya', 'Habib Wali Mohammed', 'Usha Ganesh', 'Yusuf Qawwal', 'Eunuchs', 'Ali Bux Zahoor', 'Y.K. Muddu Krishna', 'V. Bandaru', 'Chinna Ponnu', 'Vijayta Pandit', 'Female Voice', 'S.s.lohar', 'Sheikh Aazad', 'Vanitha', 'Rajkumar Bharathi', 'Arifa Siddiqi', 'Kirpal Kaur', 'Manmohan Singh', 'Shahnaaz', 'Janga Kainth', 'Shanti Purohit', 'Chandra Prakash Parihar', 'Samar Iqbal', 'B. S. Sasirekha', 'Naseem Mirza', 'Pt. Suresh Haldankar', 'Shyamamani Devi', 'Santanu Mohapatra', 'Pandit Bhimsen Joshi', 'Madhuuri Mukhopadhyay', 'Gora Sarbadhikari', 'Prem Nath', 'Dr. Sri Ram Lagoo', 'Narayan Mani', 'Tehsin Javed', 'Sital Singh Sital', 'Malgudi Subha', 'Bindu', 'Shaheda Bano Jaipuri', 'Pralhad Joshi', 'Sameer Date', 'Ahmed Faraz', 'Shankar Patil', 'Gurdas Maan', 'Pravathi', 'S. Paddha Shirke', 'Nagash', 'Natvar Giri Goswami', 'Nayab Bano', 'Chandrani Mukherjee', 'Karaikurichi P Arunachalam', 'Yazin Nizar', 'Padmini Pandian', 'Amarjeet Mama', 'Mitrabhanu Biswal', 'Bhai Harjinder Singh Srinagar Wale', 'M.Ramesh', 'VINDHYAVASINI DEVI', 'Ustad Salamat Ali Khan', 'Bhai Sadhu Singh Ragi', 'S. Jeet Swaran', 'M.S. Rajeswari', 'Ishrat Jehan', 'Kula Baruwa', 'Agwan Puriya', 'Ahmadi Begum Chopra', 'Preeti Sagar', 'Savita Suman', 'Surjit Bindrakhia', 'Richa Sharma', 'Surinder Shinda', 'Sanjay Chakraborty', 'Mohni Hameed', 'MEHAR MITTAL', 'Gurmit Randhawa', 'BABY PREETY', 'Sardool Sikander', 'Sangira Singha', 'AMARNATH NATHJI', 'Rajul Mehta', 'Deven Verma', 'Chhanda', 'Runjun Phukan', 'Padamakar Deshpande', 'Dashrath Pujari', 'SANT BABA RANJIT SINGH JI (DHADHRIAN WALE)', 'Nisha Upadhyay', 'D. Sathyaprakash', 'Nisar Hussain Haideri (Late)', 'Gurmeet Bawa', 'Maya', 'radha jaya lakshmi', 'Arun Hangal', 'Geeta Rani Das', 'Digen Mohanta', 'BHAKTA DAS BAUL', 'Hemangini Desai', 'Uma Ramanan', 'sulochna chavan', 'Chandrakanta Seal', 'Madan', 'Irene Parveen', 'Meena Kapoor', 'S. Lalitha', 'Janaki Iyer', 'Prathibha Nandan', 'Masood Malik', 'B Vasanta', 'Sukhwinder Singh', 'Salim Raza', 'Vaghmare', 'SUNDARRAJAN', 'Shekhar Ravjiani', 'Arpana', 'Venu', 'K.A. Thangavelu', 'Jaya Vijaya', 'Mohan Babu', 'Pratap Barot', 'O.M.Srinivas', 'Sulochana Chavan', 'Ahendra Kaur', 'Sultan Singh', 'Archana Das', 'M G Sreekumar', 'Sons', 'Aziz Naazan', 'Susheel', 'Shamim Bano', 'Mina Patel', 'Shabana Azmi', 'Girish Varadpe', 'Dipen Baruah', 'SHAHBUDDIN RATHOD', 'Raghunath Salokhe', 'SIEKHAR SAWKAR', 'Sreeram', 'Sapna Mukherjee', 'Srinivasa', 'tahira syed', 'Jugal Kishore Mishra', 'Pauravi Desai', 'Nilima Khatoon', 'Leena Chandavarkar', 'S. R. Kamble', 'NOOTAN', 'Sikandar Alam', 'Savith', 'Naseeb Singh', 'Ramila Gahlot', 'Amar Singh Shaunki', 'Shaila Chikale', 'singers with percussion from Damroh', 'Krishna Das', 'Jayamalini', 'Kiran Shembekar', 'C.S. Ganesh', 'Purna Chander', 'Devendra Dev', 'Chandrasekhar Prakash', 'parties of male', 'Manju', 'Pradip Patvardhan', 'Subash Das', 'Asha Khadilkar', 'Biman', 'RAM LAUTAN VISHVAKARMA', 'Raji', 'Mehboob Pervaiz', 'Mohammed Salamat', 'K. Latha', 'Radha Maheshwari', 'Resham Singh', 'Chitra Chorus', 'Dr. Seerkazhi G. Sivachidambaram', 'Debashish Mohapatra', 'Pattom Sadan', 'SAYID KHAN', 'Preetam Bala', 'Ranbir Singh Rana', 'Manabendra Mukherjee', 'Mahesh', 'Hiralal Waghela', 'Debjani Barua', 'Pralhad Shinde', 'B. Radha', 'Vidya', 'Giani Gurdial Singh Rasiya', 'Vijaya Mazumder', 'Ram Shankar', 'Mukri', 'Yusuf Azad', 'Jagjit Singh', 'Sakthi Shanmugaraja', 'Urmila Khanna', 'Ustad Faiyaz Khan', 'Kamala Jharia', 'Jaisingh Dave', 'Sri Vidya', 'Nurjahan Begum Jaipuri', 'Chhote Yusuf Qawwal', 'Farida Jalal', 'PRADEEP VAIDYA', 'Ashwini.T.N.', 'Anil Khobragade', 'Ku.Radhika Bhat', 'Karmjeet Sibiya', 'Bandita Das', 'Kabita Barthakur', 'C. Lalitha - C. Saroja', 'S.N. Surendar', 'Dilipnand Gayakwad', 'Mahananda Mazinder Baruah', 'Mu.Ka. Muthu', 'Saira Banu', 'Japinder Narula Arthur', 'Sanjivani', 'Mitalee', 'Bangalore A. R. Ramani Ammal', 'Murali Krishna', 'Km. Adyasa Roy', 'Runumi Bhattacharya', 'Anima Bhattacharya', 'Ku.Anusri', 'M Ramesh', 'MaYan', 'Kasturi Shankar', 'Vyjayanthimala', 'Sheshgirir Hangal', 'Anima Choudhury', 'Bhawana Lonkar', 'Leela Kanse', 'Rita Pandey', 'Justin Prabhakaran', 'Geeta Dutt', 'Usha Kiran', 'Siddaramu', 'Ku. Moulya', 'Ganesh Sundaram', 'Shyamal Mitra', 'KYUM AHMED', 'M.S. Raju', 'Sandhya Mukherjee', 'Arvind Pilgaonkar', 'Damodar Shirvale', 'Pranab Kishore Patnaik', 'Akshaya Mohanty', 'Rantika Tiwari', 'D. Kousalya', 'Nayyara Noor', 'Asrani', 'Nandini Sharan', 'Shyam Chandanshive', 'L. R. Anjali', 'Udoy Barman', 'Aarti Mukherji', 'Madhvi Podharkar', 'Tripti Das', 'Dilshad Akhtar', 'Usha Chandekar', 'Bhavesh Mehta', 'Sujan', 'Changani Krishna Vyas', 'Shiv Mastana', 'Kirti Shiledar', 'James', 'Susheela', 'Ulrich Bremsteller', 'P. B. Sreenivas', 'Archana Mohanty', 'Surindra Chhinda', 'Arita Samana', 'Sangeetha Jayathirtha Itagi', 'M.L. Vasanthakumari', 'Gurpreet Kaur', 'Achyut Thakur', 'Shahir Vasantrai Nanivdekar', 'Sadhna Sargam', 'Sumitra Lahiri', 'Forum Desai', 'Dominique Cerejo', 'Raayaa Koragavankar', 'Subhash Das', 'Mano S Janaki', 'Normon Richardazz', 'Bhimanand Salve', 'Iqbal Siddiqi', 'Pran', 'Janardan Rawal', 'Parupalli Sri Ranganath', 'Zubeeda Khanum', 'Zul Vellani', 'N.S. Prakash Rao', 'Premlata Nayak', 'Pramila Kumari', 'Kalaimamani L.R. Easwari', 'Sriradha Banerjee', 'Shaila', 'Saira Bano', 'Mehnaz', 'Kazi Arindam', 'Uma Raman', 'B.R.Chaya', 'Alamgir Khan', 'Vinod Mehra', 'M Riaz', 'Baban Manjrekar', 'Sudarshan Bali', 'Ashok Khosla', 'Sunaina Seth', 'Vijaya Desai', 'Rukmini Roshan Satarkar', 'Simmie', 'Clinton Cerejo', 'Anil Dutta', 'Hamid Ali Khan', 'Razia Begum', 'pardesi music machine', 'Dulari', 'Darvesh Hussain Bhatti', 'Suman Ranganathan', 'Rishi Kapoor', 'Tasawar Khanum', 'KAVITA KAPOOR', 'Archana Kanhere', 'Kisan Killekar', 'J. P. Chandrababu', 'Monojyostna Mahanta', 'Amanat Ali Khan', 'Venkatesh', 'Mahender Singh Daman', 'Jawahar Bharoli', 'Masood  Rana', 'Govind Mhashilkar', 'Dr. Suman Mate', 'Nandita Bhanja', 'Shashi Gautam', 'Manohar Golambare', 'Ghulam Farid Sabri', 'Ustad Vilayat Khan', 'Sumitra Ghosh', 'Rashida', 'Pt. Shivram Krishna', 'Praveen Karpagam', 'Bhai Davinder Singh Sodhi (Ludhiana Wale)', 'Shivaprasad Bhajani Mandali', 'V.N. Sundaram', 'Bogam', 'Yeshwant Pitale', 'Aftab Ahmad', 'Female Assam soloist', 'J V Raghavulu', 'Najma Niazi', 'Bandita Roy', 'Anusuya Ghosh', 'Anwar Rafi', 'Anwar', 'Tahir Saqi', 'Arun Paudwal', 'Vijay Yesudas', 'Euphoria', 'Radha Mangeshkar', 'Harwinder Biba', 'Kunal Ganjawala', 'Shobha Joshi', 'Bhagwant Singh Pyasa', 'T.L. Magarajan', 'Mahant Jagdish Cher', 'Bombay Jayashri', 'Madhwar Pendharkar', 'SULAKSHNA PANDIT', 'Fateh Kumar Vyas', 'Sanjeev', 'Santosh Kumar', 'Roop Kumar Rathod', 'M. Ramesh', 'Kalpana Shirur', 'RAZA MURAD', 'Biker Singh Paradesi', 'Shana P', 'Jostna Das', 'Bhai Charanjit Singh Ragi', 'Madhava Peddi', 'Mujahid Mubarak Ali Khan', 'K.L. Sreeram', 'Srinivas', 'Harindranath Chattopadhyay', 'Mika Singh', 'Swami Ranganathananda', 'Amol Palekar', 'Arati Basu', 'Ramesh Kumar', 'Bhupesh Hussanlal', 'Pritibala', 'S.N. Parvathi', 'Surinder Singh Ankhi', 'Atanu Sanyal', 'Kanu Devidan Barot', 'Soham Mukherji', 'Geetha', 'Padmanabam', 'Mohan Singh Itawa', 'Basaveshwar', 'Promila Bajaj', 'V. Sathya Rao', 'Iru Saika', 'Purabi Mukherjee', 'A.J. Muthuswamy', 'Surjeet Singh', 'Prativa', 'Bhai Darshan Singh Nirmal', 'Ram Kadam', 'Shivkumar Nakar \"Saaz\"', 'Jagruti Nayak', 'Allu Rama lingaiah', 'Kusuma', 'Jayanand Shetty', 'Pramila Jadhav', 'Sivananda Vijayalakshmi', 'Minoo Purushotam', 'Pattabhi Bhagavathar', 'Meena Mangeshkar', 'Parshuram Patil', 'Shailender Singh', 'Zahida Parveen', 'Arun Bakshi', 'Gobinda Gopal Mukopadhyay', 'Sheela', 'Mukund Gadre', 'Krushna Chandra Mohanty', 'B S Sasirekha', 'Master Damle Alis Nutan', 'Parama Mahanta', 'Samina', 'Mohan Mastana', 'Muni', 'Surinder Kohli', 'Sherene John', 'Deepmala', 'Shahir Chu Bharadkar', 'Khan Mohd.', 'Megha', 'Kasinath Tataa', 'Jhula Tripathy', 'Javed Bashir', 'Faiz Ahmed Faiz', 'Kumari Laj', 'Master Sajjad Ali', 'sibcharan das', 'Madhulika Mathur', 'Mridula Rawal', 'Suhasini Chitale', 'Dr. Gangubai Hangal', 'Anita Samana', 'Gyandev Mane', 'Ali Azmat', 'Gul Hassan Khan', 'Pradip', 'Shantilal Shah', 'Kamlakar Tapasvi', 'N.V. Haridas', 'Chinmoy Chatterjee', 'Saraswati Devi', 'H. Dev', 'Azra', 'Muneeba Sheikh', 'Ramani', 'Smt Pramila Kumari', 'Kaleem Sarwer', 'Kushal Barath', 'P. J. Sharma', 'Ashalatha Kulkarni', 'Sibanath', 'Vivekananda Roy', 'Khagen Phukan', 'Praful  Dave', 'Antara Chowdhury', 'Tejkaran', 'Ustad Qudratullah Khan', 'Oliver Nelson', 'Sukhdev Sharmila', 'Tanuja', 'Maryam Ramey', 'Jagdish Kapoor', 'Nitin Rajaram Shastri', 'Manoj', 'Hassan Sadiq', 'Gauri Bapat', 'Sudha Rama', 'Bani Joyram', 'Ravibala', 'Pt. Bhaskar Chandavarkar', 'Dr.Seerkazhi S.Govindarajan', 'K. Jaiswal', 'Udatha Sarojini', 'Suhasini', 'Dilraj Kaur', 'Mayilswamy', 'Rathnakar', 'Chi. Balakrishna', 'J.s.jaggi', 'Mahinder Kapoor', 'Akhtar Azad', 'Nahid Niazi', 'P.Jayachandaran', 'Raghunath', 'Noor Begum', 'Sugandi Radhakrishna Rao', 'Nusrat Fateh Ali Khan', 'Talat Mahmood', 'Begum Mehtab Taji', 'Hema Malini', 'Satnam Singh Ji Sethi', 'Ram Lautan Vishwakarma', 'Ramesh Chadaga', 'Salma Agha', 'O. Vyas', 'Vijay Prakash', 'Suraj Dadhich', 'Uttara Kelkar', 'Chhota Gandharva', 'Ranusingh Rajpurohit', 'Chaandrashekhar Gaadgeel', 'Basu', 'M.Javed', 'Shashi Gupta', 'Madhukar Nakhva', 'Pt. Govind Prasad Jaipurwale', 'A.V.Ramanan', 'Anil', 'Padma Sri', 'Mohan Sanwaria', 'Mahesh Gadhvi', 'Maharajapuram Santhanam', 'Anjali Sharma', 'Various Artist', 'G. Pooja', 'Helen Satya', 'Salvatore Accardo', 'Usha', 'K. P. Udayabhanu', 'Prof. Ram Shevalkar', 'Deepak Sawant', 'Varsha Suresh', 'Indira Nanda', 'K. Balaji', 'Shahir Shekh Jainu Ch', 'Suman Rao', 'Munin', 'Yenagi Baalappa', 'Jayanthi', 'Nilima Sen', 'Muzaffar  Warsi', 'Bahar Ali', 'Pandit Rajan Mishra', 'Ashwini', 'Jagmohan Deep', 'Afroze Bano', 'Amir Singh Rana', 'Panditrao Nagarkar', 'Anant Chiplekar', 'Jaybant Kulkarni', 'Badal Kumar', 'Radharani Mishra', 'Shabbir Kumar', 'Milon Gupta', 'Sadat Khan', 'T. Meena', 'B. Latha', 'Amar Singh Chamkila', 'Usha Verma', 'Rajab Ali', 'Vanmala', 'Father', 'Amir Ali', 'Namita Bhattacharya', 'Puttur Narasimha Nayak', 'P.B. Sreenivas', 'Jamuna Rani', 'Khan Mohd', 'Swarupa Chakravarty', 'Kashiram Chinchay', 'Suresh Bhat', 'Rampyari', 'Rao Gopal Rao', 'Ustad Hamid Hussain Khan', 'Deepak Parasher', 'Archana Saxena', 'K.S. Vasudevan', 'Manvel Gayakwad', 'Arun', 'VISHWANATH YADAV', 'Ravindra', 'Jay Shree Shivram', 'Sharmila Datar', 'Indira Pratihari', 'Ataullah Khan', 'Chhelshankar Dave', 'Madhubala Chawala', 'Sarang Jasraj', 'Jawaid Akhtar', 'Ranjana Joglekar', 'Dr. Kalyan', 'Vakula', 'Gaddar', 'Tansen', 'Cbso', 'Rani Verma', 'C. Saritha', 'Kumud Bhagwat', 'Purshotam Thakkar', 'Hriday Marchant', 'Veerinder', 'Jayachandren', 'CHETAN GADVI', 'Rajna Joglekar', 'Shobha Purohit', 'Kula Barua', 'Prabhakar Karekar', 'Archana', 'Abdul Rab Chaush Qawwal', 'Chitta Jana', 'Anita Kanare', 'Krishna Bose', 'Mangla Kelkar', 'Shatrughan Sinha', 'Nandu Bhende', 'Suchetbala', 'U. Thiyagarajan', 'Shimoga Subbanna', 'Hemant', 'H. K. Narayan', 'Jayashri Patwardhan', 'Adnan Sami', 'Prabhala', 'Riniki Barua', 'Bibhu Das', 'Mrinalini Dutta Chowdhury', 'K.PAPPU', 'Abhishek Bachchan', 'Haridan Gadhavi', 'Naarindwr Bida', 'Satyavathi', 'Kushwant Singh', 'C. Ramchandra', 'Shruti Sadolikar', 'Bhai Shamsher Singh Ragi', 'Salamat Ali', 'Niamat Ali', 'Udayraj Godbole', 'Parmar', 'Jayamala Shiledar', 'Srirangam Gopalarathnam', 'Damodar Vitawkar', 'Satish Babbar', 'Kamala Bai', 'Minati Bhanja', 'Lal Chand Yamla Jatt', 'Sonam', 'Sudeshna Chatterjee', 'Burra Subrahmanya Sastri', 'Sudha Kanade', 'Munna Singh', 'S.D. Batish', 'Nazir Begum', 'Viraj', 'Bibha Dubra', 'Surinder Kaur', 'Rallapalli', 'T. L. Maharajan', 'Ramya Vasista', 'Kalyanji-Anandji', 'Joshna Bhole', 'S.Ramachandhran', 'Basavaraj', 'Hemant Verma', 'Dilip Chowdhury', 'Jogila Siddaraju', 'Fateh Ali Khan', 'Vandana Shastri', 'Saikat Mukherjee', 'HAIDER ALI JUGNU', 'Jai Raj', 'M.R. Chandran Babu', 'Santa Sharma', 'Ashok Kumar', 'Allu. Ramalingaiah', 'Kousalya', 'Shyama Chittar', 'Dilbara Singh Mangat Hari Singh Gill', 'Mamta Sharma', 'Tippu', 'Ridib Dutta', 'Kewal Jalal', 'Shrikant Soni', 'Mohan Ramchandra', 'T. Gopika', 'Pt. Prabhakar Karekar', 'Pandari Bai', 'B. Hanumanthachar Univox', 'Gangothri Rangaswamy', 'Sivakumar', 'Kisan Kharat', 'T. Janaki', 'Rakshitha S', 'Vibha Desai', 'Suraiya Bano', 'Kripanandavariar', 'Muhammad Hafiz Khan', 'Mahant Hiralal', 'Saritha', 'Michael Foot', 'Mira Narayangawkar', 'Roma Mukerjee', 'Nanda', 'Murli Meghani', 'K. Anand', 'Masud Rana', 'Dr. Harphool', 'K. Murari', 'Sekhar Ghosh', 'Ghanashyam Panda', 'Arjun Koli', 'Doddanna', 'Arijit Singh', 'Ramesh Rangila', 'Tina Sani', 'Mukesh', 'Tarannum Malik', 'Savita', 'Adinath Mangeshkar', 'singers with percussion from Balek', 'Kiran Abbot', 'Khalid Ghayur', 'Raj Kumar Rizvi', 'Jaswin Jassi', 'Prabhati', 'Amarapu Satyanarayana', 'B Latha', 'N T Rama Rao', 'Hamsalekha Orchestra', 'Chandervati', 'Parveen Babi', 'Jayapal', 'Shabbir Kuar', 'Dr Harphool', 'Kuldeep Pardeshi', 'Tasswar Khanum', 'Reshman', 'Manohar', 'Nazneen', 'Keshav Rathod', 'Sain Akhtar Hussain', 'Saraswati Rane', 'Basabi Ghatak', 'Satpal', 'Nalin Dave', 'Mohni Kavi', 'Aneela Mirza', 'Sangeeta', 'Jikki', 'Latha Malathy', 'Leela Ghosh', 'Mohd. Ali Shahiki', 'Attaullah Khan Essakhelvi', 'Inderjeet Sharma', 'Pirthi Paul Singh', 'Shubh Mukherji', 'Minu Saikia', 'Musarrat Nazir', 'N. Rao', 'Sibprasad Nath', 'Radha Vishwanathan', 'Tirchy Loganathan', 'Dr. Rohini Mohan', 'Madhubhai Vegda', 'Jyotsna Hardikar', 'Reshma', 'Saddiq Ismail', 'Swagatika', 'Saluri Ramalingeswara Rao', 'Dada Kondke', 'S. C. Krishnan', 'Balu', 'Ranglal Naik', 'Arundhati Holme Chowdhury', 'DAKSHA BEGADA', 'Mrudula Desai', 'Parvathi Ramanathan', 'Pampa Gagai', 'Ustad Sharif Khan', 'Anjali Joshi', 'S P Balasubrahamanyam', 'Sapan Chakraborty', 'Masood Rana', 'Saibaba', 'Sarabjeet Sharma', 'Kadar Khan', 'Bithi Ganguly', 'Mohan', 'Chintan Vikas', 'Munnawar', 'Pradeep Chatterji', 'Sathyan', 'Maqsood Ahmed Niazi', 'Dilip Dutt', 'Raksha Rao', 'Kohinoor', 'Lata Mangeshkar', 'Sulochana Vyas', 'Vidya Balika', 'Amarjot', 'R D Kale', 'Trevor David Pinnock', 'Moni Baruah', 'Akhtar Ali', 'Madna Devi Banawat', 'Devendersigh', 'Kamla Srivastav', 'Zakir Ali Khan', 'Padmanabhan', 'Rabindra', 'Gopi', 'Shefali Ghosh', 'K J Yesudas', 'Habib Wali Muhammad', 'Dr. M. Balamurali Krishna', 'Satyajit Ray', 'Satish', 'Arati Mishra', 'Debabrata Biswas', 'Chandidas Chakraborty', 'Kunal Shah', 'Cicily', 'Mamta Sahu', 'Rajendra Sahani', 'V. K. Ramasamy', 'Kalyani', 'Vijayalakshmi Sharma', 'Joginder Kumar Sajan', 'Ajit Kadkade', 'Baijnath Mangeshkar', 'Bhupender', 'Iqbal Afzal Sabri Qawwal', 'Smt. Davender Singh', 'Syed Saleem Gilani', 'Shobha Purohitanand Kuar', 'Bhai Maninder Singh', 'Shahir Amar Sheikh', 'Jency Anthony', 'Chorus', 'Robert Uhlmarash', 'Mina', 'Anantha Theradal', 'Vijay Chavan', 'Sharon Prabhakar', 'Shabab Alawalpuri', 'N.Surya Prakash', 'Sunanda', 'Ali Raza Surani', 'Qaiser Azad Badayuni', 'Uttam Kumar', 'Kumar', 'Amjad Khan', 'Karsandas Sagathia', 'Ghanta Sala', 'Anupam Kher', 'Promila Pammi', 'Rajkumar Rizvi', 'Madhusudan Vyas', 'Shri Rajaram Kruta', 'G. I. Mohandas', 'Nirmal Singh Bagga', 'Diwaliben Bhil', 'Atul Methi', 'Sundar', 'Parman', 'Madhvi Pendharkar', 'Smt. Pramila Kumari', 'Shashikala', 'Ranu Mukherjee', 'Suresh Takle', 'Orchestra', 'Balakrishnan', 'Nirmala Gogte', 'Sabita Devi', 'K. Jamuna Rani', 'Pandurang Vanmali', 'PARTI', 'Jayshri Shivram', 'Mohd Ali Shyhaki', 'Pandurang Agawane', 'Sinchan C', 'Lal Chand Yamlajat', 'Mohnish Behl', 'Badar Uz Zaman', 'Sharat Sharma', 'Mehander Kapoor', 'Chanchal', 'Malini Rajurkar', 'Abhyankar', 'Chittapriya Mukherjee', 'Shabbir Saeed', 'K. Jamunarani', 'Nirmali Das', 'Surinder Bawa', 'M. Seetharamulacharyulu', 'Pooran Chand', 'Mahelaqa Bano', 'Bhagyashree', 'D Pen Baruah', 'Lubna Nadeem', 'R. Jayalakshmi', 'Muralidhar', 'Nandhini', 'Amrita Singh', 'Jayshree Shivram', 'Jagmohan Kaur', 'P . Sarangi', 'Siri Vennela Seetha Ramasasthry', 'Mahendra Kapor', 'Khagen Mahanta', 'Guptha', 'Nirupama', 'Mohammad Azam Chishti', 'Rameshkrishna', 'Nidhishri', 'Shradha Salvi', 'Sulbha Deshpande', 'Poornima Shah', 'Sathya Rao', 'Pearl Padamse', 'Ustad Umrao Bundu khan', 'Arun Ingle', 'Narayan Swami', 'Rajaprabhu Dhothre', 'Sravanti Mazumder', 'Suja Radhakrishnan', 'Hema Desai', 'Mustafa Khan', 'Sumer Singh', 'T. R. Narasimharaju', 'Shanti Mathur', 'Manjiri Kamat', 'T V Jaydev', 'Mehdi Hassan', 'Kalyan Sahai Sharma', 'Baby Viraj', 'M. S. Viswanathan', 'Manjeet Sibiya', 'Nithya Shree', 'Kolhapur', 'S. P. Balasubrahmanyam', 'M.S. Sheela', 'Kirti Kumar', 'Govinda', 'manmohan', 'Romen Barua', 'DR. SEERKAZHI', 'N A', 'Laxmi Prasad', 'Suraj Jagan', 'Binapani Nayak', 'Rajasulochana', 'Nasim Khan', 'Shahaji Kale', 'M. P. N. Sethuraman', 'Bhawna Lonkar', 'S. V. Ponnusamy', 'Mangal Mishra', 'L.R.Anjali', 'Rudrappa', 'P.S. Subbaiah', 'Sheela Vyas', 'Aslam', 'Kanu Devidan Baroth', 'Archana Udupa', 'Dilip Kumar', 'Ustad Ghulam Hussain Shaggan', 'Valangaiman Shanmugasundaram', 'T.L. Thyagarajan', 'Shamsa Kanwal', 'Pammi Sapna', 'Pendyala', 'Vinay Mandke', 'T.l. Maharajan', 'Anil Karkhanis', 'Lata Shiledar', 'K. B. Sundarambal', 'Farrukh Bashir', 'Shabad', 'Vidya Pendharkar', 'Purna Das Baul', \"Ram Gopal'S Orchestra\", 'Gopal Marathe', 'P. Mangapathy', 'Didar Sandhu', 'Vishwanath Bagul', 'Kovela Santha', 'Minni Ketkiwali', 'Shivaraj Kumar', 'Sukhvinder Kaur Sandhu', 'Shivaraj', 'Nazneen Wahidi', 'Qari Sadaqat Ali', 'K.B. Sundarambal', 'Umeed Ali Khan', 'P. Madhuri', 'Jagmal Barot', 'Kadri Gopalnath', 'Backing Vocals', 'Sowmya', 'Syamala Sivaraman', 'Hema Paul', 'Namita Goswami', 'uuml', 'B.S. Sasirekha', 'BRIJ KISHOR', 'Mohammad Lateef Kumar', 'Pargan Singh Teji', 'A.Nayyar', 'Hariram', 'Amarjyot', 'Leslie Lewis', 'Monima Saikia', 'Nalla Rama Moorthy', 'Ustad Talib Hussain', 'Nitin Parikh', 'Avinash Vyas', 'Rajinikanth', 'Gaurang Vyas', 'Vasantha', 'Bijendra Singh', 'Shabnam Kapoor', 'Rajiv Malik', 'Bakul Pit', 'S. V. Ranga Rao', 'Muzaffar Warisi', 'Aziz Ahmed Warsi', 'Chandrakant Shinde', 'Muhammad Arif Lohar', 'Ustad Chote Ghulam Ali Khan', 'Jaganmoy Mitra', 'Nagoor M. M. Yoosuff', 'Alka Shankar', 'Paramjit Singh', 'Lalitaben Trivedi', 'Monika', 'Mithun Chakraborty', 'T L Maharajan', 'Pragya Khandekar', 'Prasanta Baruah', 'Azim', 'P. Jayachandran', 'Mohammed Ali Shyhaki', 'Purshottam Thakar', 'M. R. Thilakam', 'S.P.Sailaja', 'Shakuntla', 'Banarsi Lal Jhori', 'Dulraj Kaur', 'Mohd. Hussain', 'Sarda Sinha', 'Bela Sulakhe', 'Javed Jaffrey', 'Amrish Yagnik', 'Vanisri', 'Basanta Das', 'Ustad Hamid Hussain', 'Amzad Khan', 'Ratilal Bhavsar', 'H. P. Gita', 'Jayshree Belsare', 'Muhammad Ifrahim', 'Ku.Shreya', 'Raeesa Khanum', 'Bagepalli Subramanyam', 'Pt. Sawai Gandharva', 'A.P. Komala', 'Charushila Belsare', 'B. S. Parwana', 'Bal Palsule', 'T. R. Mahalingam', 'Pamela Chopra', 'Aparna Raderkar', 'Sabiha Khan', 'M.S. Liban Bindey', 'Baby Arpita', 'Vinaykumar', 'Sunil Dev', 'SAILJA', 'Harishankar', 'Sibaprashad Nath', 'Palash Sen', 'Anwar Hussain', 'Mitraa Phukan', 'Pulak Banerjee', 'Kunnakudi Vaidyanathan', 'Ravinder Diwana', 'Master Alauddin', 'Child Artist', 'SUDHIR KUMAR', 'Munshi Ram', 'Suhaas', 'Ali Abbas', 'Anup Ghoshal', 'H. S. Gill', 'Manas Mukherjee', 'Hemlata', 'Latha Rani', 'Vasanti Dani', 'Damayanti Bardai', 'Yogesh Khadilkar', 'Ramakrishna', 'C.L.T.', 'Vitthal Shinde', 'Babla Mehta', 'Avinash Pashankar', 'Sanjay Ojha', 'Poorna Sri', 'deepak patekar', 'Sikander Alam', 'Mohd Azam Chishti', 'Sharada', 'Mysore Devadas', 'Reena Rajnaryan Dash', 'Jayasri Kamath', 'Kirpal Bawa', 'Pujari', 'Dhanjibhai Patel', 'Lalita Das', 'L.Velusamy', 'Gurdeep Singh Sajan', 'Ladha Surinder Kaur', 'Ghulam Mustafa Khan', 'Kumudha Mani', 'R.N. Jayagopal', 'Vishwanath', 'Chitaranjan Pani', 'Saayanarayana', 'Sulamangalam', 'Vaijayanti Limaye', 'Kumar Sanu', 'Jagadesh', 'Mangal Singh', 'Ramamoorthy', 'Anwar Maqsood', 'Sujatha Dutt', 'Koundamani', 'Vandana Murthy', 'M. Faruqi', 'Nisha Bhagat', 'Rohini Sastry', 'Prem Chopra', 'Radhakanta Nanda', 'Salem S. Jayalakshmi', 'Rajdeep Singh Sekhon', 'Nachiketa Chakraborty', 'Shakuntala Jadhav', 'chandra shekhar kalla', 'Yello', 'Nutan', 'Ranjeet', 'Bharati Das', 'Anjan Dutt', 'Utra Kelkar', 'Balwinder Singh Bhatti', 'Anna', 'Danny', 'Suraiya', 'Maya Jadhav', 'Milind Jog', 'Pradnya Khandekar', 'Rashid Ali', 'Prahlad Shinde', 'Radhika Saxena', 'Abdur Rab Chaush Qawwal', 'Rajan', 'Gopal Samantaray', 'Sudhama Ram', 'Bhagwan Haans', 'Kamaal Khan', 'Rasbihari Desai', 'RAM MURAT', 'M-Kaleem', \"Supported By Talents 80'S\", 'Vijay Kumar', 'ARPANA CHOUDHARY', 'Kumud Kulkarni', 'Ajay Warrior', 'J.V. Raghavulu', 'Madhukar Joshi', 'S.Somasundaram', 'Vijay Batalvi', 'Kamalahasan', 'Davinder Kaur', 'Sadguru Sant Keshavadas', 'Jagannath', 'Rekha Jha', 'Laxmi Nayampalli', 'Sharda', 'K. Muralidhar', 'Jyothi', 'Kanshi Ram Ghulam', 'Rani Rooplata', 'R.chohan', 'Kartar Sing Ramla', 'J.P. Chandrababu', 'Guru', 'Koteswara Rao', 'Saeed Hashmi', 'Inayat Hussain Bhatti', 'Gulshan Komal', 'ALLAN FAKIR', 'B. Ramana', 'Rajeswari', 'V. Nagaiah', 'Dr.Vasanthan', 'Utpalendu Chowdhury', 'Supriti Ghosh', 'Raghunaha Bobde', 'Surinder Kaur Dilbar', 'Fritz Manuel', 'Shabana', 'Anindita Das', 'Sivaji Chatterjee', 'Rupa', 'Kammo', 'Avinash Hande', 'Subhasish', 'Gulab Singh', 'Nadaswaram', 'Ranjit', 'Banasree Sengupta', 'Janaki', 'sohan lal', 'Shiv Ram', 'Dwipen Barua', 'Ajit Kaur', 'D.A. Dhanapandian', 'Sanjay Oza', 'Gaurav Chopra', 'Subhalaxmi Dash', 'Daphne Lionel', 'Karthik', 'Prafull', 'Saima Khalid', 'Sarala Rekha', 'Krishna Shinde', 'Kamala', 'Kokila Joshi', 'Sudhin Mukherjee', 'PADMINI KOHLAPURE', 'Tej Karan Rao', 'Raja Babu', 'Satinder Biba', 'Madhu Tiwari', 'Ananda Shankar', 'Jagjit Kaur', 'Various Artists', 'balakrushna das', 'Puna Saika', 'Chandrakant Kale', 'Guru Das Sharma', 'Pahari Saikia', 'Sarvjeet', 'Inderjit Singh Rahi', 'T. G. Lingappa', 'Bhai Samund Singh Ragi', 'Surjit Singh', 'Ravi Shankar Sharma', 'Bilqees Khanum', 'Agnes Davidson', 'Mikkilineni', 'Swapna Chakraborty', 'Samarat Benarji', 'Dr.Kamlesh Avastathi', 'POORAN SINGH', 'Edwin', 'Rubina Badar', 'Shrikant Kulkarni', 'Bechan Ram Rajbhar', 'Lakshmi Nagaraj', 'Jayshree Shejwadkar', 'Aparna Dev', 'Pankaj Udhas', 'Inder Kaur', 'Preeti Uttam', 'Prakash Ghangrekar', 'Rekha Trivedi', 'Jyoti Ray', 'Shashi Prabha', 'Rajalakshmi', 'Dr Shreeram Lagu', 'Anjali V Bhat', 'Parshuram', 'Bharat Gandhi', 'Sailen Mukherjee', 'Subasa Dash', 'Aashiq Hussain Jutt', 'Diip Dholakia', 'Bhai Sant Singh', 'Rafiq Sagar', 'Baby Guruprit Kaur', 'Bhavatharini', 'Padmavathi', 'Dr. Rajkumar', 'Raveendran', 'singers with percussion from Mebo', 'Arshad Mehmood', 'G.T. Balakrishna', 'Lakhbir Singh Lakkha', 'Ajoy Chakrabarty', 'Mahananda Majinder Barua', 'Mangala Ravi', 'Malvika Kanan', 'Padmini Kolhapure', 'Karukurichi P. Arunachalam Nadaswaram', 'Ruby Singha', 'R.P. Nag', 'Naseem Begum', 'Aarti Dave', 'Indrani Sen', 'Keshav Badge', 'Pasupuleti Kannamba', 'Pandit Shiv Kumar Sharma', 'Ramdas Patil', 'Satya Baruah', 'Arun Bose', 'Kalpana Bhuiya', 'Babu', 'Gummadi', 'K.B.K. Mohan Raju', 'Meera Narayangaonkar', 'Vaidehi Thakur', 'Mitali Chinera', 'Sushree Sangeeta Mahapatra', 'Baby Kum Kum', 'Charanjit Channi', 'Mahesh Kanodia', 'Chattar Singh Parwana', 'DOCTOR KALYANAM', 'Asoke Saikia', 'Joginder Singh Rafi', 'Anita Goswami', 'CHANDRAMANI MUKHERJEE', 'Pandurang Dixit', 'K.M. Raju', 'Bipul', 'Sant Giyani Kartar Singh Khalsa (Bhindranwale)', 'Santu Mukherjee', 'Master Abdul Wahid', 'Kanubhai Rajguru', 'Manjula', 'Paras Nath Yadav', 'Sinduri', 'Dr Kalyan', 'Prasanthini', 'Bakhteyar Ahmed', 'Bhai Mahinder Pal Singh', 'Anghuman Roy', 'T.S. Bhagavathi', 'Smita Patil', 'Manjari Desai', 'Shivakumar', 'A P Komala', 'Kudrat', 'Abhaya', 'Kavi Dad', 'Ghogad Fem', 'Subhash Ghai', 'Papiya Bagchi', 'Narayana Rao', 'Krishnamurthy', 'Santha Kumari', 'Shivamogga Subbanna', 'Lakshmi Bordoloi', 'Bukhshi Salamat Mubarak Ali', 'Dr M L Vasanthakumari', 'Anant Gujar', 'Vaman Kardak', 'Satinath Mukhyopadhyay', 'Bhupinder Kohli', 'Mohammad Latif Kumhar', 'Charanjit Kaur', 'Sailajananda Nayak', 'Sailaja', 'Rama Rao', 'K. P. Brahmanandan', 'SURINDER CHINDA SAVITA', 'L.R. Eswari', 'Dr. Balamurali Krishna', 'Shivanand Patil', 'Mohan Kumar', 'Bhalchandra Pendharkar', 'I. Shravya', 'Agha', 'Baidyanath Gayak Ratna Sharma', 'K.G. Markose', 'Kuntala Deka', 'Jai Shree Shiv Ram', 'medha bhosle', 'Rajguru Hoskote', 'Ullas', 'Bechu Dutta', 'Bhalchandr A Pendharkar', 'Nagore E.M. Hanifa', 'Deepak Chavan', 'Maddali', 'Kalluri Muralikrishna', 'Rambha Ben', 'Pankaj Mitra', 'Lakshmipathi', 'Shankar Nag', 'Dibakar Mohanty', 'Aarati Goswami', 'Ajit Singh', 'Dasturji Nowrooz D. Minocher Homji', 'Manju Noorpuri', 'Mahendra Kapoor', 'Kanhopatra Kinikar', 'Vydehi Komala', 'PRABHA SINGH', 'Asha Ramani', 'Purshotam Upadhyay', 'Shantabai Bhosle', 'Fakir Patnaik', 'Bela Shende', 'Shahir Sable', 'Sudesh Kapoor', 'Purnachandra Rao', 'Bhai Avtar Singh Ji', 'Rabindra Sathe', 'Malika Pukhraj', 'K. Anand Mohan', 'Manju Das', 'P Leela', 'Badruddin Malawat', 'Raadhika Sarathkumar', 'Dr. Vasantrao Deshpande', 'Farida Parveen', 'Usha Timothy', 'Nahid Akhar', 'Hemachandra', 'Shanikumar', 'Gogoi Sisters', 'Simi Garewal', 'Seema Mishra', 'Srinivas Udupa', 'Dolly Ghosh', 'Amay Date', 'Shri Dula Bhagat', 'K Bhagyaraj', 'Vinay Kamal', 'Poonam', 'Savitri', 'Shrikant Paargavkar', 'K V  Mahadevan', 'Sushma Shrestha', 'Prof. Satnam Singh Sethi', 'Digen Mahanta', 'Allauddin', 'Sarabjeet Singh', 'Namita Ghoshal', 'Satya Mishra', 'Reeta Pant', 'Shaik', 'Bahauddin Hajibhai', 'Malti Gujar', 'V. V. Swamy', 'Nikunjalata Mahanta', 'Nomi Gayan', 'Paramjit Pali', 'Balbir Jatti', 'J P Chandrababu', 'T.L. Maharajen', 'Krishna Kale', 'Karnataka Nataka Mandali', 'Usha Mangeshkar', 'Not Found', 'Asha Devi', 'Bhai Bakhshish Singh Ragi', 'Muhammad Alam Lohar', 'Mangala', 'Bhai Dilbagh Singh', 'MADHULIKA', 'Waghmare', 'Vithal Hedulkar', 'HEMANT BIRJE', 'Shahir Piraji Sarnaik', 'Bhai Devinder Singh Ragi', 'Raghu Sahoo', 'Sumer Singh Yadav', 'Mohd Shafi Niyazi', 'Tansen Singh', 'B. Kamlesh Kumar', 'Jagjit Jeeto', 'Mridula Das Dewan', 'Wilson', 'Umarshad Qawwal', 'Usha Sharma', 'S. Rajeswara Rao', 'Vikas', 'Gulzar', 'S.Sowmya', 'Nirmala Devi', 'Anette', 'Sulochana Kadam', 'Pradeep Kumar', 'Bhai Harchand Singh Ragi', 'Geeta Roy', 'Mohapatro Minati Bha', 'Vasant Ajgaokar', 'K. Bhanumati', 'Kumari Sushma', 'Viswanath Bagul', 'Kamlesh Pandey', 'Takuram Dananee', 'Kader Rangila Qawwal', 'Indrani Rizvi', 'Sumati Tikekar', 'Mukund Fansalkar Ani', 'Devadas', 'Vijayanti Pahija', 'Shankar Giri', 'Johny Lever', 'Aheswari', 'Dipmala', 'Mysore Ananthaswamy', 'Nilakshi Juvekar', 'Sudhir Bhattacharya', 'Manjari Barua', 'Karamjit Singh Dhuri', 'K B Sundarambal', 'Mitali Singh', 'SURENDRA CHHINDA', 'Nahid Aktar', 'Prayag Raj', 'Nirmalendu Choudhury', 'Swagtika Mohapatra', 'Shama Khale', 'Udav Kumar Upadhye', 'K. Sulochana', 'Iqbal Bano', 'Gyanesh Wari Sharma', 'Chhinder Paul Sunam', 'Latha', 'C Aswath', 'Goundamani', 'Gurdev Singh Jogi', 'Sharmila Tagore', 'Party', 'Rachana Khadikar', 'Vanmali', 'Jesudas', 'Asavari Vaykul', 'Bhagwan Ligade', 'Zahida Khan', 'Bundu Khan Langa', 'Jani Babu Qawwal', 'Jyotsna Bhole', 'Mitali Chinara', 'Van Shipley', 'Sarabji Jagtar Singh', 'Sunita', 'Anup Jalota', 'Bela Mukherjee', 'Ashalata Vabgaokar', 'Mohammed Rafi', 'Karam S. Bhatti', 'Bupinder', 'Chitra Sen', 'Suresh Wadkar', 'Jahor Roy', 'Saleem Shahzad', 'Koumodi Mazumder', 'C.S. Jayaraman', 'R. Paanigraahi', 'Hema Sardesai', 'Srikanta', 'Gori Munni', 'Soolamangalam Sisters', 'Saindhavi', 'Kuldip Kaur', 'Rahat Fateh Ali Khan', 'A. Koteswara Rao', 'Usha Kaur', 'Chittaranjan', 'Neena Chitnis', 'Temi Enty', 'Gajanan Watve', 'Punyabrata Deb Goswami', 'Bali Brahmbhatt', 'Farida Khanum', 'Ranjit Singh', 'Jaspal Singh', 'Raghunan Panshikar', 'Kovai Bathu', 'Ramesh Rangeela', 'Jency Antony', 'Madhuri Purandare', 'S.Sarala', 'Naba', 'Nagamani', 'S. Janski', 'Ustad Bismillah Khan', 'Madhu', 'Deedar Singh', 'Pranab Kishore Pattnayak', 'Jamal Ghani', 'Jyoti', 'Swapan Chakraborty', 'T.M. Soundararajan', 'Pamela Mukherjee', 'Usha Jariwala', 'Punjabi Bhangra', 'Neelam Chowhan', 'Sibani Dutta', 'Aruna Irani', 'Parveen Sultana', 'R. Gauri Aiyyar', 'Dinesh', 'Vinod Rathod', 'maqbool ahmed sabri', 'Kazi Sabyasachi', 'Jayadev', 'Dharmapuram P Swaminathan', 'Sadan', 'Malladi Ramakrishna Sastry', 'Sister Sarah Navaroji', 'Anita Raj', 'Taranum Naz', 'Durgamoyee Bara', 'Kavignar Kannadhasan', 'Not Applicable', 'Shahnaz Begum', 'Siba Prasad Nath', 'Baby Farida', 'Malabika Bora', 'Bhagat Singh', 'Madhavapeddi', 'Asad Amanat', 'Haribhai', 'Raghavendra Rajkumar', 'female singers from Mohana', 'Lona', 'Late Maniram Gayon', 'A.P.Nagarajan', 'Dilraj Kour', 'Khiya Ram', 'Abhay Singh', 'Kulkarni', 'Manzoor Husain', 'Bandana Boraha', 'Ramesh Chandra', 'pervez mehdi', 'Gurdev Singh Koyal', 'Madhuri Dixit', 'Swagatika Rath', 'P. Muruga Doss', 'A.L. Raghavan', 'Amir Chand Shekhar', 'Nimosa', 'B. Vasantha', 'Nand Kumar', 'Disciples', 'Subhash Vora', 'Deepak Vahar', 'Jayalakshmi', 'Rajani Joshi', 'Sulakshana Pandit', 'Prema Narayan', 'Milan Gupta', 'Gopi Patnaik', 'E. Pushpa Lalitha', 'Devashish Mahapatra', 'Abhhi Bhattacharya', 'Shahir Prabhakar Jamkhedkar', 'Niranjan Pandya', 'Prabhudev Sardar', 'K. L. Chand', 'Hemu Gadhvi', 'Mushtaq Ali', 'Mohd. Abid', 'Bhanu Bandopadhyay', 'Krishna Burman', 'Mehul Kumar', 'Manas Kumar', 'Runa Laila', 'Ahmed Rushdi', 'L.R. Anjali', 'Sharda Vyas', 'Kishori Amonkar', 'MUNNI DEVI', 'Harshdeep Kaur', 'Ramakoti', 'Jarnail Dosanjh', 'Shanthi Solomon', 'Montu Bhattacharya', 'B.R. Latha', 'Indira Varma', 'M. Siva', 'Srikanth', 'Malaysia Vasudevan', 'Pervez Begum', 'K. Veeramani', 'M.S.Rajeswari', 'Raj Kumar', 'Sparsha Shenoy', 'Lopita Mishra', 'N. S. Krishnan', 'Manna Dey', 'Dr. Shreeram Lagoo', 'Gulshan Ara Syed', 'Mahavir', 'Kamaljeet Kaur Neeru', 'Sadhana Bhaduri', 'Veerindra', 'Ranjit Kaur', 'Deepak Narayangaonkar', 'S. Balbir', 'Shakti Mishra', 'Shyam Bhateja', 'Dr. Seerkazhi S. Govindarajan', 'Stuttgarter Kammerorchester', 'Salman Ashraf', 'Male Uttar Pradesh singers from Konain', 'FATMA', 'Dr. Seerkhazhi S. Govindarajan', 'Ghulam Abbas', 'Shounak Abhisheki', 'M. S. Raju', 'Assam mixed chorus from Kohima', 'Shankarlal Mukherjee', 'Malini Mehta', 'Abilash', 'Munni Ketkiwali', 'Mehrunissa', 'A.R. Oza', 'Zach', 'Kalpana Patowary', 'Aruna', 'Pandanallur T.R.D.Anandakumar', 'Karnail Gill', 'V. Sreepathy', 'Sridevi', 'Padmasubrahmanyam', 'Baby Shalini', 'Dalpat Dangi', 'Debashish Dasgupta', 'Rajabhai Sondarva', 'sunanda patnaik', 'Pithapuram Nageswara Rao', 'Veena Bamne', 'Nighat Akbar', 'M.verma', 'Bhupendra', 'Satish Kumar', 'Shahida Khan', 'Vinay', 'P.J. Sarma', 'Ritu Guha', 'Kaumudi Munshi', 'A. P. Nagarajan', 'Kumud Pendekar', 'Bashir Ali Mahi', 'Saroj Kapoor', 'Pt. Shivanand Patil', 'T. K. Kala', 'Mahathi', 'Kalubha Jadeja', 'Ustad Nabi Bukhsh Khan', 'Anand', 'Sathi', 'Suresh Bhosle', 'Kamini Kembhavi', 'M. R. Vijaya', 'Betty Prince', 'Vani Jairam', 'Shanu Malik', 'Kavita Krishnamurthy', 'Maheshwar Barua', 'Madhavapeddi Satyam', 'Miriam Stockley', 'Nurjahan Begum', 'Zahid Hussain', 'Anitha Chowdhary', 'Vijetha Parvathikar', 'Shaila Devi', 'Vishwanath Mishra', 'E. Gayathri', 'Vijay Salavi', 'The English Concert', 'Sabri Brothers', 'T. K. S. Natarajan', 'Vithal Shindhe', 'Shambhu Qawal', 'Akhlaq Ahmed', 'Sangeeta Mahapatra', 'Amitabh Bachchan', 'M.S. Naseem', 'Manashi Nayak', 'Jensy', 'Suez Bardoloi', 'Indhra', 'P Suri Babu', 'Sonu Kakkar', 'Suhasini Mulgaonkar', 'Akhil Bandhu Ghosh', 'Surinder Kaur Sapna', 'Rashmi Gadgil', 'Bhagwan Singh Deepak', 'S.P. SAILAJA GANGAI AMARAN', 'Raj Kumar Bharathi', 'Bibhuti Patnaik', 'K.B.Sundarambal', 'Ramesh Nakhwa', 'C. K. Rama', 'Faiz', 'Ayesha Sarkar', 'Baldev Mararh', 'Mahalakshmi Iyer', 'Bhushan Mehta', 'Emani Sankara Sastry', 'Darshan Singh Ji', 'P.B.Srinivas', 'Rajprabha Pangadiya', 'K. Gopi', 'Kaumudi Majumdar', 'Karamdeep Kaur', 'Nathalal Chorasia', 'Dathana Pandian', 'Meera Basu', 'Qari Obaid-Ur-Rehman', 'Aamir Munawwar', 'Jayachandra', 'Vijayendra', 'Natvargiri Goswami', 'Kanthimathi', 'Chiragh Ali', 'Rishikesh Bodas', 'Rekha Davjekar', 'Karunas', 'Ustad Ghulam Mohd Khan', 'M L Vasanthakumari', 'T. S Balaiah', 'Savita Sathi', 'Pranab Pattanayak', 'Chandrabali Rudra Dutta', 'Bhai Dharsitaram Singh Ragi', 'Madhuri Devi', 'Maheswar Barua', 'Shankar Yadav', 'Nitya Santhoshini', 'Kaluram Prajapati', 'Nagoor Babu', 'Babulal Roy', 'Najam Sheraz', 'Balaiah', 'Bhai Gulbagh Singh', 'Suruli Rajan', 'Ashoke', 'Sudesh Bhonsle', 'Reena Disojha', 'Karim Shahab ud Din', 'Charanjit Chan', 'Chandru', 'B. Jayamma', 'Janardhan (Janni)', 'Madhuri Chatterjee', 'Dilbar Khan', 'Shailendra Singh', 'E. V. Saroja', 'Yeshwanth Halibandi', 'Vital Signs', 'Indira Chowdhury', 'Mohanraj', 'A.R. Ramani Ammal', 'Mohammad Sazid', 'Suresh Shinde', 'Anand Shinde', 'Zubaida Khannum', 'Ashiq Ali Khan', 'Master Dinanath Mangeshkar', 'Dhananjoy Bhattacharya', 'Anil Kumar', 'Kalyanam', 'Saraswati Devi Dhandra', 'Rajendra Mehta', 'Surinder Pal Panchhi', 'Sabitha Chaudhary', 'Ila Arun', 'K.K.', 'Raj Seetaram', 'Syed Razi Rizvi', 'Haricharan', 'Sangeeta Pandit', 'Wagya', 'M.K. Thyagaraja Bhagavathar', 'L N Shastri', 'Mashooq Ali Khan', 'Surjeet Walia', 'Vinod Khanna', 'Ku.Sanjana', 'Jaswant Kulkarni', 'Paras Nath', 'Wilhelm Kempff', 'Venugopal', 'Jahoor Master', 'Bellur Sisters', 'Master Maharajan', 'Pamela Singh', 'Bangar Paslia', 'Nithin Rajaram Shasthry', 'Baljeet Kaur Bali', 'Tulshiram Buva Dixit', 'Jalli Mishra', 'Jayanta', 'Pyara Singh Panchhi', 'Sona Rawal', 'Shri Davinder Singh', 'Nalini Mulgaonkar', 'Lakhabhai Gadhvi', 'Janardan Dhotre', 'Mukhtar Begum', 'Anupama Sumanraj', 'Kamu Mukherjee', 'Chaya', 'Sasirekha', 'Lal Din Shahbazi', 'Baby Preeti', 'Jamuna', 'K. Deep', 'Mohan Sunder Deb Goswami', 'Shravan Yashwante', 'Kavita Paudwal', 'Kalyani Das', 'A. K. Hangal', 'INAYAT ALI', 'Parkash Balli', 'Benerji', 'Vandana', 'Ustad Ramzan Khan', 'Shiv-Hari', 'Shankar Mahadevan', 'Baby Bijal', 'Hans Raj Sama', 'Niyaz Ahmed Khan', 'Nazia Hassan', 'Usha Kirtane', 'BANALAXMI KANUNGO', 'Fulpari', 'Rehana Mirza', 'Amar Nooriee', 'Haimanti Shukla', 'Biddu', 'dayal pawar', 'Surjit Walia', 'Sajjad Akram', 'Resham Singh Daler', 'Pt. Jitendra Abhishek', 'Malkit Singh', 'Ramesh Naidu', 'Salamat Hussain', 'Gurminder. Kaur', 'V.R. Athavale', 'Rasik Pathak', 'Shivangi Kolhapure', 'Santosh Naik', 'Purshottam Das Jalota', 'Badri Pawar', 'Chachchu', 'Kollangudi Karuppayi', 'Parbhakar Karekar', 'Heman Verma', 'Lakhabhai Gadhavi', 'Picchalli Srinivas', 'Prahlad Bora', 'M. Prabhakara Reddy', 'Sukhdev Safari', 'Lalita Phadke', 'Rituparna Sharma', 'Vatsala Patil', 'Sanwar Lal Ranga', 'Parkash Kaur', 'Shamsa Kawal', 'S.K. Menon', 'Vangara', 'Uthukkadu Venkatasubbaier', 'Thilaka', 'Shaheda Khan', 'Kamal Haasan', 'Instrumental', 'Vanita Mishra', 'Sanat Banerjee', 'Karl M', 'Tarun Banerjee', 'Krishnachandran', 'Ustad Fateh Ali Khan', 'Ambar Kumar', 'Andankovil Selvarathinam', 'Bharathiraja', 'Vinay Kamalkishore', 'Kaoushik', 'K.M. Kusuma', 'Saiyyan Chaudhry', 'T.A. Mothi', 'Pattabi', 'Sipra Basu', 'Dharmapuram P. Swaminathan', 'Master Arindam', 'Nataraj Sharma', 'Anuradha Patel', 'Shobha', 'Arzoo Bano', 'T.r. Jayadev', 'Master Chandar', 'Krishna Mukherjee', 'Yasodakrishna', 'Meena Sharma', 'S.N. Shobha', 'Hazara Singh Ramta', 'Dheepan Chakravarthy', 'Nitin Mukesh', 'Jackie Shroff', 'Sudha Gupta', 'Tilak Raaj', 'Rajat Nandy', 'Kadambari', 'Sadaf', 'Mohammed Sadiq Pindivale Master', 'Intrumental', 'Bhupinder Singh', 'Kunda Wagalikar', 'Ranjana Shinde', 'Bikash Das', 'S. Jayalakshmi', 'Mano', 'Jaunsar Bower', 'Shiw Nandan Gope', 'Gyani Daya Singh Dilbar', 'Arvind Barot', 'S. Janki', 'Manubhai Jasdanwala', 'Needamanglam G. Krishnamurthy Bhagavathar', 'Chanda Shekhar Gadgil', 'various', 'Sumer Singh Sehrawat', 'Radha Ravi', 'mushir', 'Firdousi Begum', 'MANJEET KAUR', 'Zoheb Hassan', 'Nadeem', 'Sehgalsavitha Sathi', 'Pushpa Gahlot', 'Jagyaseni', 'Malaysia Vasudevan Kveeramani', 'Aruna Rathore', 'Trupti', 'Babu Singh Maan', 'Madhavi Pandya', 'Unni Menon', 'Snehal Bhatkar', 'Kunal Singh', 'M. Kapoor', 'S. P. Sailaja', 'Shrikant Narayan', 'Nishi Kohli', 'K. Mohideen Baig', 'Chandrashekar Kadilaya', 'Rekha', 'Kalyani Menon', 'S.P. Ponnuswamy', 'Sreekumar Chatterjee', 'Hanuman Sahay', 'Satindar Pal Singh Sidhvan Wale', 'Lakhi Banjara', 'R D Burman', 'R. Jesiah', 'Jayalakshmi Radha', 'BalviR. Kaur', 'Jayashri Shivram', 'Yasmin', 'Shahida Parveen', 'Ridip Dutta', 'Mallu', 'Laxmikant Palit', 'Kausar Parveen', 'Kanika Banerjee', 'Anu Malik', 'P. V. Chalapathi Rao', 'Usha Chinoy', 'Lakshmi Shankar', 'Noor Jehan Begum Jaipuri', 'Salim Shehzad', 'Kumudini Mishra', 'Balwinder Kumar', 'Premnath', 'Bakul Pandit', 'M.Kaleem', 'Tharai A. Ganesan', 'Faqir Singh Faqir', 'Anuradha Marathe', 'singers from Siluk', 'Jaishree', 'Himanshu Bhatt', 'pinakin shah', 'Taki Ahammed Dildar', 'Afshaan', 'Sanjeevani Khale', 'Pal Singh Pal', 'Prafulla Kar', 'Bhusan Mehta', 'Sonia Sidhu', 'Sajan Mishra', 'Chitti babu', 'Shama Bano', 'Nikunjalata Mohanta', 'H P Geetha', 'Amirbai Karnataki', 'S. Mulgaonkar', 'Meena Patki', 'Daljeet Kaur', 'Kishore Bhagwat', 'Junaid Akhtar', 'Ravindra Jain', 'M.R. Thilakam', 'Indirabai Khadilkar', 'Chote Saleh Mohd Azad', 'Bhai Sohan Singh Rasia', 'Mohd. Amjad', 'Shakuntala', 'Ramakrishnan Murthy', 'G. Devarajan', 'Manjula Gururaj', 'Debashish Mahapatra', 'Bhai Jaswinder Singh', 'Mitali Choudhury', 'N. Malini', 'Nanditha', 'Mahenra Kapoor', 'Mariana Sirbu', 'KASHI BULLU YADAV', 'Rajkumari', 'Mali Chhawarlal Gahlot', 'Renuka Barua', 'Smt. Siddheshwari Devi', 'Rajan Nagendra', 'Pravin Shinde', 'Surjit Das', 'Kokila Goswami', 'Akashvani Vadya Vrinda', 'Nanda Nandan Satpathy', 'Joginder Singh', 'Resham Singh Resham', 'Manju Banerjee', 'Uday Upadhay', 'Naseeruddin Shah', 'REQ.', 'Ashwini Somasundaram', 'Nihar S.', 'Pascal Paul', 'Sri Vidyabhushana Thirtha Swamiji', 'S. G. Nevrekar', 'Jayanta Hazarika', 'Madhumati Goswami', 'Zaki Taji Qawwal', 'Mangala Joshi', 'Sumitra Sen', 'T. A. Madhuram', 'Varsha Bhosle', 'Aanchal', 'Kamla Thakur', 'Amit Kumar', 'Yunus Malik', 'Kehar Singh Sapera', 'Annette Pinto', 'Satish Kaushik', 'A.Sundararajan', 'Harnek Singh Nek', 'Robin Banerjee', 'Rajesh', 'Parkash Sodhi', 'S.P.Ramh', 'Shekh Jainu Chand', 'Swagatalakshmi Dasgupta', 'Gulshan Bawra', 'Arun Pange', 'Shubha Mudgal', 'Damyanti Bardai', 'Chandalya', 'Mohd. Habib', 'Jyoti Mhapsekar', 'Hussain Bakhash Khan', 'Major Sunderarajan', 'M. Kaleem', 'Sangeetha', 'Jaswinder Kaur', 'Jaya Prada', 'Pritinanda Rout Ray', 'Shahnaj Begum', 'Fareeda Syed', 'Ajmer Singh', 'Anjali Mahulikar', 'A.E. Manoharan', 'Chitra Singh', 'SD. Batish', 'K.N. Dhandayuthapani Pillai', 'Mohinder Kapoor', 'Chittaranjan Deb', 'Kumudini Pednekar', 'Hans Raj Hans', 'M. N. Nambiar', 'Kirti', 'A. V. Subbarao', 'Smita Dass', 'Moolchand Maroo', 'S  P  Bakshi', 'Indoo Vishwanath', 'Sarfaraz Agha', 'Pooja Taayur', 'Chitharanjan', 'Ghanshyam Vaswani', 'Padma Shirke', 'Ashok Salve', 'Geeta Chhabra', 'G. Rajasekar', 'Master Habib Nizami Qawwal', 'Benjamin Sisters', 'Sathan', 'Gul Bahar Bano', 'Hiranmayi', 'ASHA BATALVI', 'V. Krishnamoorthy', 'Jon B. Higgins', 'Sasi Rekha', 'Sharda Sinha', 'Sri Maruthi', 'MINAKSHI SHESHADRI', 'Pervaiz Mehdi', 'Allah Rakha Ustad', 'Muniba Shaikh', 'Srini', 'Johnson', 'Anima Chowdhury', 'Umme Habiba', 'Rama', 'Janni', 'Karam Singh Bhatti', 'Ranjit Singh G', 'Himatgiri Goswami', 'Pramod Mathur', 'Devaki Pandit', 'Ranjana', 'Pamela Jain', 'Manohar Ovlekar', 'Tukaram Dhadam', 'Radhakrushna Bhanja', 'Vishal Dadlani', 'Y. S. Moolky', 'Sushma Devi', 'Ramana', 'Shamim Khan', 'S. D. Burman', 'KISHORE DAYARAM', 'Ramachandran', 'Romendra Sagar', 'Mubarak Begum', 'Young mixed chorus from Port Blair', 'Anuradha Prakash', 'Zubeen Garg', 'Ikram Rajasthani', 'Kumar Sonik', 'Wadali Brothers', 'Sivaji Ganesan', 'Mohana', 'Shankar Ganesh', 'Nutan Pendharkar Damle', 'Bharti Vaishampayan', 'Yashwant Deo', 'Arghya Sen', 'Asha Kale', 'Inderjeet Rahi', 'Usha Timoti', 'Derik', 'Hasan Puri', 'Om Prakash', 'Dhinesh', 'M.L.Narasimha Murthy', 'Kaumodi Mazumder', 'Girish Wazalwar', 'Abdul Hameed Calcattawale', 'Achal Pankaj', 'Attaullah Khan', 'Master Kasturi Lal', 'Amar Pal', 'Ustad Asad Ali Khan', 'Muhammad Iqbal', 'Shakuntala Joshi', 'N. D. Mahanor', 'Ratannagar', 'Ganpat Joshi', 'Ruma Guha Thakurta', 'Sarika Kapoor', 'B.S. Raja Iyengar', 'Dr. C.G. Desai', 'Rajani Mehta', 'R.N. Sudarshan', 'Chandi Ram', 'Kumar .F. Kanavi', 'Sayeeda Begum', 'Baldev Singh Fatehwala', 'A. J. Muthuswamy', 'Bhanupriya', 'Simta Khandenvis', 'L R Anjali', 'Omi Verma', 'Aziz Nazan Qawwal', 'Vandana Bajpeyie', 'Baby Kavita', 'Ashokan', 'Abhijeet Bhattacharya', 'Sasha Ghoshal', 'Alka Yagnik', 'Rehana', 'Mihir Bardaloi', 'Babul Supriyo', 'Traditional', 'Shiv Kumar', 'Dr Aparna Mayekar', 'Janardan Sharma', 'Gopala Rao', 'Joan Mascarebhas', 'Chetan', 'Shaila Chikhale', 'Yamini Bhalekar', 'Haji Fayyaz Qawwal', 'Bela Sraver', 'Pushpa Tirke', 'Ramya', 'Ku.Apurva', 'Deepak Kumar Pandit', 'Bangalore A.R. Ramani Amma', 'Parvin', 'Jaya', 'Mitali Chowdhury', 'Naveen', 'C. S. Sarojini Devi', 'Bhairav Prasad Kathak', 'Ranima Devi', 'Jayant Kulkarni', 'Ustad Allahditta Khan', 'Gurminder Kaur', 'PARUPALLI RANGNATH', 'Naresh Kumar', 'Poorani', 'Sylvie Gazeau', 'Pushpa Panda', 'Rachhpal Singh Rasila', 'Ranjna Shinde', 'Naseem Banu', 'prabhat sharma', 'Mallesh', 'Kalpana Bordoloi', 'Nahid Akhter', 'Dharapuram Sundararajan', 'Mujeeb Alam', 'S. Santa Singh', 'Gurukiran', 'Bappi Lahiri', 'L.N. Sastri', 'Manakkal Mani', 'T. K. S. Kalaivanan', 'Aprna', 'Sadar Mahanta', 'A.R. Sheik Mohammed', 'apna sangeet', 'Pramodini Sathe', 'Rathna Mala Prakash', 'Gurdial Nirman Dhuri', 'Pushparaj', 'Vithal Umap', 'Foram Desai', 'Mangesh Padgaonkar', 'Amarjeet Kaur Bedi', 'S.D. Chauhan', 'Farid Ayaz Qawwal', 'Ramola', 'B. Neeraja', 'Babulal Rai', 'Saeen Ditta Qadri', 'Sangeetha & Shylaja', 'Radha Dhareshwar', 'Vandna Vitankar', 'Nighat', 'Yehudi Menuhin', 'Jithmohan Mitra', 'Sulochana', 'Sakthi T. K. Krishnasamy', 'S.C. Krishnan', 'Bhai Surjan Singh Ragi', 'Surinder Sonia', 'Chakravarty Brothers', 'M. S. Sodhi', 'Swarna', 'Trickbaby', 'Mahesh Kumar(Female Voice)', 'Mani Krishnaswami', 'Purnima Zaveri', 'Vinod Sehgal', 'Hamsalekha', 'Narayaqn Bodas', 'Govind Boricha', 'Marutibuva Bagde', 'Suma', 'Dohar', 'Bhai Harbans Singh Ji (Jagadhari Wale)', 'T.K.S.Natarajan', 'Suchitra Mitra', \"Ain't No Love\", 'Jyotsna', 'Joginder Singh Kamal', 'Debasish Mohapatra', 'T. E. Palanisami', 'K.S.L. Swamy', 'Asit Sen', 'R. Muthuraman', 'Tejkaran Rao', 'Piara Singh Jalalabadi', 'Sourav Nayak', 'Rajesh Madina', 'Gururaj Kulakarni', 'Bhai Piara Singh Ragi', 'John Stewart', 'Saraswathi', 'B. Padmanabham', 'G.s.heera', 'Ramesh Chopra', 'Anitha Suresh', 'Nalini Chonkar', 'Kulwant Kaur'}\n"
          ]
        }
      ]
    },
    {
      "cell_type": "code",
      "source": [
        "print('unique singers are there in the dataset',len(all_singer_output))"
      ],
      "metadata": {
        "colab": {
          "base_uri": "https://localhost:8080/"
        },
        "id": "D3J9nQkdpECX",
        "outputId": "4ac509ef-36ce-41b3-888d-3ebd4796ef02"
      },
      "execution_count": 19,
      "outputs": [
        {
          "output_type": "stream",
          "name": "stdout",
          "text": [
            "unique singers are there in the dataset 3940\n"
          ]
        }
      ]
    },
    {
      "cell_type": "markdown",
      "source": [
        "3.8) Who has the most number of songs played?"
      ],
      "metadata": {
        "id": "rJcQS_pBna6t"
      }
    },
    {
      "cell_type": "code",
      "source": [
        "data = []\n",
        "\n",
        "unique_singers = list(set(all_singer))\n",
        "\n",
        "for i in unique_singers:\n",
        "\n",
        "  k = 0\n",
        "  for singers_ in df['singer']:\n",
        "    if (i in singers_):\n",
        "      k += 1\n",
        "\n",
        "  data.append([i,k])"
      ],
      "metadata": {
        "id": "UxzSdL2OrDVG"
      },
      "execution_count": 20,
      "outputs": []
    },
    {
      "cell_type": "code",
      "source": [
        "songs = pd.DataFrame(data, columns = ['singer','songs'])\n",
        "\n",
        "songs.head()\n",
        "\n",
        "songs.sort_values(by = 'songs', ascending = False).head()"
      ],
      "metadata": {
        "colab": {
          "base_uri": "https://localhost:8080/",
          "height": 206
        },
        "id": "0ChvdsEwt0OZ",
        "outputId": "ff937519-77f7-4762-b69c-3b7505a2dcd6"
      },
      "execution_count": 21,
      "outputs": [
        {
          "output_type": "execute_result",
          "data": {
            "text/plain": [
              "                      singer  songs\n",
              "2450  S. P. Balasubrahmanyam   3659\n",
              "2360                   Kumar   3270\n",
              "1625                 Susheel   3216\n",
              "1764                Susheela   3215\n",
              "1087             P. Susheela   3213"
            ],
            "text/html": [
              "\n",
              "  <div id=\"df-133e8605-54e5-4e72-8620-9491c079bfdb\">\n",
              "    <div class=\"colab-df-container\">\n",
              "      <div>\n",
              "<style scoped>\n",
              "    .dataframe tbody tr th:only-of-type {\n",
              "        vertical-align: middle;\n",
              "    }\n",
              "\n",
              "    .dataframe tbody tr th {\n",
              "        vertical-align: top;\n",
              "    }\n",
              "\n",
              "    .dataframe thead th {\n",
              "        text-align: right;\n",
              "    }\n",
              "</style>\n",
              "<table border=\"1\" class=\"dataframe\">\n",
              "  <thead>\n",
              "    <tr style=\"text-align: right;\">\n",
              "      <th></th>\n",
              "      <th>singer</th>\n",
              "      <th>songs</th>\n",
              "    </tr>\n",
              "  </thead>\n",
              "  <tbody>\n",
              "    <tr>\n",
              "      <th>2450</th>\n",
              "      <td>S. P. Balasubrahmanyam</td>\n",
              "      <td>3659</td>\n",
              "    </tr>\n",
              "    <tr>\n",
              "      <th>2360</th>\n",
              "      <td>Kumar</td>\n",
              "      <td>3270</td>\n",
              "    </tr>\n",
              "    <tr>\n",
              "      <th>1625</th>\n",
              "      <td>Susheel</td>\n",
              "      <td>3216</td>\n",
              "    </tr>\n",
              "    <tr>\n",
              "      <th>1764</th>\n",
              "      <td>Susheela</td>\n",
              "      <td>3215</td>\n",
              "    </tr>\n",
              "    <tr>\n",
              "      <th>1087</th>\n",
              "      <td>P. Susheela</td>\n",
              "      <td>3213</td>\n",
              "    </tr>\n",
              "  </tbody>\n",
              "</table>\n",
              "</div>\n",
              "      <button class=\"colab-df-convert\" onclick=\"convertToInteractive('df-133e8605-54e5-4e72-8620-9491c079bfdb')\"\n",
              "              title=\"Convert this dataframe to an interactive table.\"\n",
              "              style=\"display:none;\">\n",
              "        \n",
              "  <svg xmlns=\"http://www.w3.org/2000/svg\" height=\"24px\"viewBox=\"0 0 24 24\"\n",
              "       width=\"24px\">\n",
              "    <path d=\"M0 0h24v24H0V0z\" fill=\"none\"/>\n",
              "    <path d=\"M18.56 5.44l.94 2.06.94-2.06 2.06-.94-2.06-.94-.94-2.06-.94 2.06-2.06.94zm-11 1L8.5 8.5l.94-2.06 2.06-.94-2.06-.94L8.5 2.5l-.94 2.06-2.06.94zm10 10l.94 2.06.94-2.06 2.06-.94-2.06-.94-.94-2.06-.94 2.06-2.06.94z\"/><path d=\"M17.41 7.96l-1.37-1.37c-.4-.4-.92-.59-1.43-.59-.52 0-1.04.2-1.43.59L10.3 9.45l-7.72 7.72c-.78.78-.78 2.05 0 2.83L4 21.41c.39.39.9.59 1.41.59.51 0 1.02-.2 1.41-.59l7.78-7.78 2.81-2.81c.8-.78.8-2.07 0-2.86zM5.41 20L4 18.59l7.72-7.72 1.47 1.35L5.41 20z\"/>\n",
              "  </svg>\n",
              "      </button>\n",
              "      \n",
              "  <style>\n",
              "    .colab-df-container {\n",
              "      display:flex;\n",
              "      flex-wrap:wrap;\n",
              "      gap: 12px;\n",
              "    }\n",
              "\n",
              "    .colab-df-convert {\n",
              "      background-color: #E8F0FE;\n",
              "      border: none;\n",
              "      border-radius: 50%;\n",
              "      cursor: pointer;\n",
              "      display: none;\n",
              "      fill: #1967D2;\n",
              "      height: 32px;\n",
              "      padding: 0 0 0 0;\n",
              "      width: 32px;\n",
              "    }\n",
              "\n",
              "    .colab-df-convert:hover {\n",
              "      background-color: #E2EBFA;\n",
              "      box-shadow: 0px 1px 2px rgba(60, 64, 67, 0.3), 0px 1px 3px 1px rgba(60, 64, 67, 0.15);\n",
              "      fill: #174EA6;\n",
              "    }\n",
              "\n",
              "    [theme=dark] .colab-df-convert {\n",
              "      background-color: #3B4455;\n",
              "      fill: #D2E3FC;\n",
              "    }\n",
              "\n",
              "    [theme=dark] .colab-df-convert:hover {\n",
              "      background-color: #434B5C;\n",
              "      box-shadow: 0px 1px 3px 1px rgba(0, 0, 0, 0.15);\n",
              "      filter: drop-shadow(0px 1px 2px rgba(0, 0, 0, 0.3));\n",
              "      fill: #FFFFFF;\n",
              "    }\n",
              "  </style>\n",
              "\n",
              "      <script>\n",
              "        const buttonEl =\n",
              "          document.querySelector('#df-133e8605-54e5-4e72-8620-9491c079bfdb button.colab-df-convert');\n",
              "        buttonEl.style.display =\n",
              "          google.colab.kernel.accessAllowed ? 'block' : 'none';\n",
              "\n",
              "        async function convertToInteractive(key) {\n",
              "          const element = document.querySelector('#df-133e8605-54e5-4e72-8620-9491c079bfdb');\n",
              "          const dataTable =\n",
              "            await google.colab.kernel.invokeFunction('convertToInteractive',\n",
              "                                                     [key], {});\n",
              "          if (!dataTable) return;\n",
              "\n",
              "          const docLinkHtml = 'Like what you see? Visit the ' +\n",
              "            '<a target=\"_blank\" href=https://colab.research.google.com/notebooks/data_table.ipynb>data table notebook</a>'\n",
              "            + ' to learn more about interactive tables.';\n",
              "          element.innerHTML = '';\n",
              "          dataTable['output_type'] = 'display_data';\n",
              "          await google.colab.output.renderOutput(dataTable, element);\n",
              "          const docLink = document.createElement('div');\n",
              "          docLink.innerHTML = docLinkHtml;\n",
              "          element.appendChild(docLink);\n",
              "        }\n",
              "      </script>\n",
              "    </div>\n",
              "  </div>\n",
              "  "
            ]
          },
          "metadata": {},
          "execution_count": 21
        }
      ]
    },
    {
      "cell_type": "code",
      "source": [
        "for lang in df['language'].unique():\n",
        "\n",
        "  df_ = df[df['language'] == lang]\n",
        "  \n",
        "  all_singer = []\n",
        "  for singers in df_['singer']:\n",
        "    all_singer += singers.split('|')\n",
        "\n",
        "  print(lang, len(df_),len(set(all_singer)))"
      ],
      "metadata": {
        "colab": {
          "base_uri": "https://localhost:8080/"
        },
        "id": "TKUQITVIwpBk",
        "outputId": "b5f64f5f-1764-4da3-ed8d-3bf3b7082418"
      },
      "execution_count": 29,
      "outputs": [
        {
          "output_type": "stream",
          "name": "stdout",
          "text": [
            "Urdu 3116 385\n",
            "Gujarati 2115 303\n",
            "Tamil 4677 510\n",
            "Kannada 3559 379\n",
            "Rajasthani 541 218\n",
            "Haryanvi 228 76\n",
            "Punjabi 3818 636\n",
            "Hindi 4993 515\n",
            "Old 4993 515\n",
            "Malayalam 479 72\n",
            "Marathi 4699 569\n",
            "Telugu 4996 369\n",
            "Odia 940 243\n",
            "Bhojpuri 519 109\n",
            "Assamese 724 228\n",
            "Bengali 958 192\n"
          ]
        }
      ]
    },
    {
      "cell_type": "code",
      "source": [
        ""
      ],
      "metadata": {
        "id": "hiHvGuHXx_w7"
      },
      "execution_count": 21,
      "outputs": []
    }
  ]
}